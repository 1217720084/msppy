{
 "cells": [
  {
   "cell_type": "markdown",
   "metadata": {},
   "source": [
    "# Minimize the absolute value\n",
    "A stage-wise independent finite discrete MSLP.    \n",
    "The data process is stage-wise independent and on the RHS.    \n",
    "This is a problem originally from Bernado.        "
   ]
  },
  {
   "cell_type": "markdown",
   "metadata": {},
   "source": [
    "## Formulation\n",
    "\\begin{align*}\n",
    "    \\min~ & \\sum_{t=1}^T |x_t|\\\\\n",
    "    s.t.~ & \\textrm{for}~ t = 1,\\dots,T\\\\\n",
    "         & x_t = x_{t-1} + c_t + \\epsilon_t\\\\\n",
    "         & \\epsilon_t\\overset{i.i.d}{\\sim} N(-1,1) \\\\\n",
    "         & c_t \\in \\{-1,1\\} \\\\\n",
    "         & x_1 = 0\n",
    "\\end{align*}"
   ]
  },
  {
   "cell_type": "code",
   "execution_count": 1,
   "metadata": {},
   "outputs": [
    {
     "name": "stdout",
     "output_type": "stream",
     "text": [
      "Academic license - for non-commercial use only\n",
      "Academic license - for non-commercial use only\n",
      "Academic license - for non-commercial use only\n",
      "Academic license - for non-commercial use only\n"
     ]
    }
   ],
   "source": [
    "from msppy.msp import MSIP\n",
    "from msppy.solver import Extensive, SDDiP\n",
    "import numpy\n",
    "numpy.random.seed(3)\n",
    "T = 4\n",
    "precision = 1\n",
    "rhs = [numpy.random.normal(-1,1,size=10) for _ in range(T-1)]\n",
    "absolute = MSIP(T=T, bound=0)\n",
    "for t in range(T):\n",
    "    m = absolute[t]\n",
    "    x_now, x_past = m.addStateVar(lb=-100, ub=100, name='x')\n",
    "    if t == 0:\n",
    "        m.addConstr(x_now == 0)\n",
    "    else:\n",
    "        y = m.addVar(name='y', obj=1)\n",
    "        c = m.addVar(vtype='B', name='c')\n",
    "        slack = m.addVar(ub=1/10**(precision), name='slack')\n",
    "        m.addConstr(y >= -x_now)\n",
    "        m.addConstr(y >= x_now)\n",
    "        m.addConstr(\n",
    "            x_now - x_past - 2*c  + slack == -1,\n",
    "            uncertainty={'rhs': rhs[t-1]}\n",
    "        )"
   ]
  },
  {
   "cell_type": "code",
   "execution_count": 2,
   "metadata": {},
   "outputs": [
    {
     "name": "stdout",
     "output_type": "stream",
     "text": [
      "Academic license - for non-commercial use only\n"
     ]
    },
    {
     "data": {
      "text/plain": [
       "1.8647999999999987"
      ]
     },
     "execution_count": 2,
     "metadata": {},
     "output_type": "execute_result"
    }
   ],
   "source": [
    "absolute.binarize(bin_stage=T, precision=precision)\n",
    "Extensive(absolute).solve(outputFlag=0)"
   ]
  },
  {
   "cell_type": "code",
   "execution_count": 3,
   "metadata": {},
   "outputs": [
    {
     "name": "stderr",
     "output_type": "stream",
     "text": [
      "------------------------------------------------------------------------------------\n",
      "                             SDDP Solver, Lingquan Ding                             \n",
      "------------------------------------------------------------------------------------\n",
      "   Iteration               Bound            Value 95% CI (3)                    Time\n",
      "------------------------------------------------------------------------------------\n",
      "           1            1.009997           0.061104, 3.538896               5.660007\n",
      "           2            1.088501           0.603172, 1.596828               5.847554\n",
      "           3            1.330106           1.694266, 3.439067               5.715516\n",
      "           4            1.560988           0.999104, 3.067562               7.596119\n",
      "           5            1.688548           0.958573, 3.508094               7.895199\n",
      "           6            1.710439           0.399116, 3.267551               7.554958\n",
      "           7            1.771223           1.208172, 2.458494               7.398677\n",
      "           8            1.794473           1.679823, 2.253510               7.073163\n",
      "           9            1.801250           0.148656, 3.251344               6.764492\n",
      "          10            1.824738           1.287208, 2.046125               7.189078\n",
      "          11            1.832232           1.354759, 2.845241               6.978692\n",
      "          12            1.843830          -0.321061, 3.121061               7.770719\n",
      "          13            1.846843          -0.169716, 4.569716               8.142750\n",
      "          14            1.849197           0.485518, 3.114482               9.057779\n",
      "          15            1.851253           1.349552, 2.383781               8.580737\n",
      "          16            1.851415           1.003172, 1.996828              11.296433\n",
      "          17            1.853487           0.959646, 2.107020               9.032765\n",
      "          18            1.854932          -0.107950, 4.307950              11.746744\n",
      "          19            1.855537           0.362714, 2.370619              14.633708\n",
      "          20            1.858069           1.953875, 2.712792              11.118251\n",
      "          21            1.860086           0.942759, 2.257241              12.170373\n",
      "          22            1.860086           0.709517, 3.690483              11.458773\n",
      "          23            1.860095          -0.071723, 3.871723              11.610905\n",
      "          24            1.860404           0.754759, 2.245241              12.261650\n",
      "          25            1.860483           0.571042, 3.828958              11.744744\n",
      "          26            1.860524           0.046507, 2.286826              12.337798\n",
      "          27            1.860524           0.432438, 2.500896              11.359751\n",
      "          28            1.860677          -0.482854, 4.616188              11.645640\n",
      "          29            1.860677          -0.921438, 4.721438              13.121546\n",
      "          30            1.860677           0.483011, 2.983655              12.537296\n",
      "------------------------------------------------------------------------------------\n",
      "Time: 287.30181670188904 seconds\n",
      "Algorithm stops since iteration:30 has reached\n"
     ]
    }
   ],
   "source": [
    "absolute_sddip = SDDiP(absolute)\n",
    "absolute_sddip.solve(cuts=['LG'], n_steps=3, n_processes=3, max_iterations=30)"
   ]
  },
  {
   "cell_type": "code",
   "execution_count": null,
   "metadata": {},
   "outputs": [],
   "source": []
  }
 ],
 "metadata": {
  "kernelspec": {
   "display_name": "Python 3",
   "language": "python",
   "name": "python3"
  },
  "language_info": {
   "codemirror_mode": {
    "name": "ipython",
    "version": 3
   },
   "file_extension": ".py",
   "mimetype": "text/x-python",
   "name": "python",
   "nbconvert_exporter": "python",
   "pygments_lexer": "ipython3",
   "version": "3.7.1"
  }
 },
 "nbformat": 4,
 "nbformat_minor": 2
}
