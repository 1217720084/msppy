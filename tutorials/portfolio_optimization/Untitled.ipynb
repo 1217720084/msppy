{
 "cells": [
  {
   "cell_type": "code",
   "execution_count": 53,
   "metadata": {},
   "outputs": [],
   "source": [
    "from statsmodels.tsa.arima_model import ARMA\n",
    "from statsmodels.graphics.tsaplots import plot_acf\n",
    "import pandas_datareader.data as web\n",
    "import pandas\n",
    "import numpy\n",
    "import statsmodels.api as sm"
   ]
  },
  {
   "cell_type": "code",
   "execution_count": 61,
   "metadata": {},
   "outputs": [],
   "source": [
    "prices = pandas.read_csv(\"prices.csv\",parse_dates=['Date'],index_col=0)\n",
    "tickers = prices.columns[:-2]\n",
    "# use the last record for each week\n",
    "prices = prices.resample('W').agg(lambda x:x[-1])\n",
    "prices.dropna(axis=0, how='any', inplace=True)\n",
    "rf = prices['^TNX'].values[:-1]\n",
    "rf /= (52*100)\n",
    "returns =  prices.iloc[:,:-1].pct_change()[1:]\n",
    "rm = returns['^GSPC'].values\n",
    "ri = returns.iloc[:,:-1].values\n",
    "Ri = ri-rf[:,numpy.newaxis]\n",
    "Rm = rm-rf\n",
    "model = sm.OLS(Ri, sm.add_constant(Rm))\n",
    "results = model.fit()\n",
    "alpha,beta = results.params\n",
    "epsilon = numpy.sqrt(Ri.var(axis=0) - beta**2*Rm.var(axis=0))\n",
    "output = pandas.DataFrame(\n",
    "    columns=['alpha','beta','epsilon'],\n",
    "    index = tickers,\n",
    "    data=numpy.array([alpha,beta,epsilon]).T\n",
    ")\n",
    "output.to_csv(\"coefficients.csv\")"
   ]
  },
  {
   "cell_type": "code",
   "execution_count": 74,
   "metadata": {},
   "outputs": [
    {
     "name": "stdout",
     "output_type": "stream",
     "text": [
      "  NIT    FC           OBJFUN            GNORM\n",
      "    1     7    -4.290504E+02     1.636250E+05\n",
      "    2    21    -4.296904E+02     1.812047E+05\n",
      "    4    33    -4.296913E+02     1.815156E+05\n",
      "    5    46    -4.296917E+02     1.812930E+05\n",
      "    7    58    -4.296948E+02     1.818245E+05\n",
      "   10    71    -4.296977E+02     1.813353E+05\n",
      "Positive directional derivative for linesearch    (Exit mode 8)\n",
      "            Current function value: -429.69772263056046\n",
      "            Iterations: 10\n",
      "            Function evaluations: 71\n",
      "            Gradient evaluations: 6\n"
     ]
    }
   ],
   "source": [
    "from arch.univariate import ARX, GARCH\n",
    "arx = ARX(rm, lags=1)\n",
    "arx.volatility = GARCH()\n",
    "res = arx.fit(disp='off')\n",
    "pandas.DataFrame(res.params).to_csv(\"parameters.csv\")"
   ]
  }
 ],
 "metadata": {
  "kernelspec": {
   "display_name": "Python 3",
   "language": "python",
   "name": "python3"
  },
  "language_info": {
   "codemirror_mode": {
    "name": "ipython",
    "version": 3
   },
   "file_extension": ".py",
   "mimetype": "text/x-python",
   "name": "python",
   "nbconvert_exporter": "python",
   "pygments_lexer": "ipython3",
   "version": "3.7.1"
  }
 },
 "nbformat": 4,
 "nbformat_minor": 2
}
