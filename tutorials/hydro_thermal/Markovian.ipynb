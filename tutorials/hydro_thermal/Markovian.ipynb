{
 "cells": [
  {
   "cell_type": "code",
   "execution_count": 1,
   "metadata": {},
   "outputs": [],
   "source": [
    "import pandas\n",
    "import numpy\n",
    "import matplotlib.pyplot as plt\n",
    "import gurobipy\n",
    "from msppy.msp import MSLP\n",
    "from msppy.solver import SDDP\n",
    "from msppy.evaluation import EvaluationTrue"
   ]
  },
  {
   "cell_type": "code",
   "execution_count": 2,
   "metadata": {},
   "outputs": [],
   "source": [
    "hydro_ = pandas.read_csv(\"./data/hydro.csv\", index_col=0)\n",
    "demand = pandas.read_csv(\"./data/demand.csv\", index_col=0)\n",
    "deficit_ = pandas.read_csv(\"./data/deficit.csv\", index_col=0)\n",
    "exchange_ub = pandas.read_csv(\"./data/exchange.csv\", index_col=0)\n",
    "exchange_cost = pandas.read_csv(\"./data/exchange_cost.csv\", index_col=0)\n",
    "thermal_ = [pandas.read_csv(\"./data/thermal_{}.csv\".format(i), index_col=0) for i in range(4)]\n",
    "hist = [pandas.read_csv(\"./data/hist_{}.csv\".format(i), index_col=0, sep=';') for i in range(4)]\n",
    "stored_initial = numpy.array(hydro_['INITIAL'][:4])\n",
    "inflow_initial = numpy.array(hydro_['INITIAL'][4:8])\n",
    "gamma = numpy.array(pandas.read_csv(\n",
    "    \"./data/gamma.csv\",\n",
    "    names=[0,1,2,3],\n",
    "    index_col=0,\n",
    "    skiprows=1,\n",
    "))\n",
    "sigma = [\n",
    "    numpy.array(pandas.read_csv(\n",
    "        \"./data/sigma_{}.csv\".format(i),\n",
    "        names=[0,1,2,3],\n",
    "        index_col=0,\n",
    "        skiprows=1,\n",
    "    )) for i in range(12)\n",
    "]\n",
    "exp_mu = numpy.array(pandas.read_csv(\n",
    "    \"./data/exp_mu.csv\",\n",
    "    names=[0,1,2,3],\n",
    "    index_col=0,\n",
    "    skiprows=1,\n",
    "))"
   ]
  },
  {
   "cell_type": "code",
   "execution_count": 3,
   "metadata": {},
   "outputs": [],
   "source": [
    "T = 3\n",
    "def generator(random_state,size):\n",
    "    inflow = numpy.empty([size,T,4])\n",
    "    inflow[:,0,:] = inflow_initial[numpy.newaxis:,]\n",
    "    for t in range(T-1):\n",
    "        noise = numpy.exp(random_state.multivariate_normal(mean=[0]*4, cov=sigma[t%12],size=size))\n",
    "        inflow[:,t+1,:] = noise * (\n",
    "            (1-gamma[t%12]) * exp_mu[t%12]\n",
    "            + gamma[t%12] * exp_mu[t%12]/exp_mu[(t-1)%12] * inflow[:,t,:]\n",
    "        )\n",
    "    return inflow"
   ]
  },
  {
   "cell_type": "code",
   "execution_count": 4,
   "metadata": {},
   "outputs": [
    {
     "name": "stdout",
     "output_type": "stream",
     "text": [
      "Academic license - for non-commercial use only\n",
      "Academic license - for non-commercial use only\n",
      "Academic license - for non-commercial use only\n"
     ]
    }
   ],
   "source": [
    "HydroThermal = MSLP(T=T, bound=0, discount=0.9906)\n",
    "HydroThermal.add_Markovian_uncertainty(generator)\n",
    "for t in range(T):\n",
    "    m = HydroThermal[t]\n",
    "    stored_now, stored_past = m.addStateVars(4, ub=hydro_['UB'][:4], name=\"stored\")\n",
    "    spill = m.addVars(4, obj=0.001, name=\"spill\")\n",
    "    hydro = m.addVars(4, ub=hydro_['UB'][-4:], name=\"hydro\")    \n",
    "    deficit = m.addVars(\n",
    "        [(i,j) for i in range(4) for j in range(4)], \n",
    "        ub = [\n",
    "            demand.iloc[t%12][i] * deficit_['DEPTH'][j]  \n",
    "            for i in range(4) for j in range(4)\n",
    "        ],\n",
    "        obj = [\n",
    "            deficit_['OBJ'][j] \n",
    "            for i in range(4) for j in range(4)\n",
    "        ], \n",
    "        name = \"deficit\")\n",
    "    thermal = [None] * 4\n",
    "    for i in range(4):\n",
    "        thermal[i] = m.addVars(\n",
    "            len(thermal_[i]), \n",
    "            ub=thermal_[i]['UB'], \n",
    "            lb=thermal_[i]['LB'], \n",
    "            obj=thermal_[i]['OBJ'], \n",
    "            name=\"thermal_{}\".format(i)\n",
    "        )\n",
    "    exchange = m.addVars(5,5, obj=exchange_cost.values.flatten(),\n",
    "        ub=exchange_ub.values.flatten(), name=\"exchange\")\n",
    "    thermal_sum = m.addVars(4, name=\"thermal_sum\")\n",
    "    m.addConstrs(thermal_sum[i] == gurobipy.quicksum(thermal[i].values()) for i in range(4))\n",
    "    for i in range(4): \n",
    "        m.addConstr(\n",
    "            thermal_sum[i] \n",
    "            + gurobipy.quicksum(deficit[(i,j)] for j in range(4)) \n",
    "            + hydro[i] \n",
    "            - gurobipy.quicksum(exchange[(i,j)] for j in range(5))\n",
    "            + gurobipy.quicksum(exchange[(j,i)] for j in range(5)) \n",
    "            == demand.iloc[t%12][i]\n",
    "        )\n",
    "    m.addConstr(\n",
    "        gurobipy.quicksum(exchange[(j,4)] for j in range(5)) \n",
    "        - gurobipy.quicksum(exchange[(4,j)] for j in range(5)) \n",
    "        == 0\n",
    "    )\n",
    "    m.addConstrs(\n",
    "        (stored_now[i] + spill[i] + hydro[i] - stored_past[i] == 0 for i in range(4)),\n",
    "        uncertainty_dependent=[0,1,2,3],\n",
    "    )\n",
    "    if t == 0:\n",
    "        m.addConstrs(stored_past[i] == stored_initial[i] for i in range(4))"
   ]
  },
  {
   "cell_type": "code",
   "execution_count": 5,
   "metadata": {},
   "outputs": [],
   "source": [
    "HydroThermal.discretize(\n",
    "    method='RSA',\n",
    "    n_Markov_states=100,\n",
    "    n_sample_paths=10000,\n",
    ")"
   ]
  },
  {
   "cell_type": "code",
   "execution_count": 6,
   "metadata": {},
   "outputs": [
    {
     "name": "stderr",
     "output_type": "stream",
     "text": [
      "----------------------------------------------------------------\n",
      "                   SDDP Solver, Lingquan Ding                   \n",
      "----------------------------------------------------------------\n",
      "   Iteration               Bound               Value        Time\n",
      "----------------------------------------------------------------\n",
      "----------------------------------------------------------------------------\n",
      "             Evaluation for approximation model, Lingquan Ding              \n",
      "----------------------------------------------------------------------------\n",
      "   Iteration               Bound               Value        Time\n",
      "----------------------------------------------------------------------------\n",
      "           1       455984.927640      1236665.506014    0.173090\n",
      "           2       734669.066617       799777.544333    0.068241\n",
      "           3       736134.291958       728368.474266    0.062924\n",
      "           4       738289.215354       743660.149720    0.066467\n",
      "           5       742393.186868       730040.608364    0.076174\n",
      "           6       743000.910899       731685.833266    0.087487\n",
      "           7       743061.836557       783424.923278    0.077355\n",
      "           8       743070.770859       731687.515805    0.061440\n",
      "           9       743071.306205       731690.601511    0.054119\n",
      "          10       743071.662327       731683.395637    0.056233\n",
      "          11       743071.735758       731685.987272    0.055411\n",
      "          12       743074.937745       731681.526949    0.055140\n",
      "          13       743082.634193       734974.463661    0.061294\n",
      "          14       743082.635833       731681.526949    0.059590\n",
      "          15       743084.640261       734972.009091    0.125929\n",
      "          16       744189.638730       742971.933116    0.073496\n",
      "          17       744189.638730       731687.288736    0.061419\n",
      "          18       744189.835808       731689.718044    0.089209\n",
      "          19       744221.951351       734978.299912    0.080616\n",
      "          20       744221.997985       731681.526949    0.075691\n",
      "          20       744221.997985       744641.963868   19.829093       0.06%\n",
      "----------------------------------------------------------------\n",
      "Time: 1.521324872970581 seconds\n",
      "Algorithm stops since convergence tolerance:0.001 has reached\n",
      "----------------------------------------------------------------------------\n",
      "Time: 19.82909321784973 seconds\n"
     ]
    }
   ],
   "source": [
    "SDDP(HydroThermal).solve(\n",
    "    logFile=0,\n",
    "    max_iterations=100, \n",
    "    freq_evaluations=20, \n",
    "    n_simulations=-1, \n",
    "    tol=1e-3,\n",
    ")"
   ]
  },
  {
   "cell_type": "code",
   "execution_count": 7,
   "metadata": {},
   "outputs": [
    {
     "data": {
      "text/plain": [
       "(765441.4560435136, 777711.3437271892)"
      ]
     },
     "execution_count": 7,
     "metadata": {},
     "output_type": "execute_result"
    }
   ],
   "source": [
    "result = EvaluationTrue(HydroThermal)\n",
    "result.run(n_simulations=1000, random_state=666)\n",
    "result.CI"
   ]
  }
 ],
 "metadata": {
  "kernelspec": {
   "display_name": "Python 3",
   "language": "python",
   "name": "python3"
  },
  "language_info": {
   "codemirror_mode": {
    "name": "ipython",
    "version": 3
   },
   "file_extension": ".py",
   "mimetype": "text/x-python",
   "name": "python",
   "nbconvert_exporter": "python",
   "pygments_lexer": "ipython3",
   "version": "3.7.1"
  }
 },
 "nbformat": 4,
 "nbformat_minor": 2
}
