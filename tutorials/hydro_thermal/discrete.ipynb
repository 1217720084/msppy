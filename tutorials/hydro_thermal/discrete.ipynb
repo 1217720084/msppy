{
 "cells": [
  {
   "cell_type": "markdown",
   "metadata": {},
   "source": [
    "# A hydro-thermal power system\n",
    "The Brazilian interconnected power system have four regions, SE, S, N and NE, denoted by 0,1,2,3 for simiplicity. In each region, there are one integrated reserviour and several thermal plants to provide energy. Energy exchange is allowed between regions and an additional transshipment station. If demand can not be satisfied, a deficit cost will be incur. The objective is to minimize the total cost over the designing period meanwhile meeting energy requirements and feasibility constraints."
   ]
  },
  {
   "cell_type": "markdown",
   "metadata": {},
   "source": [
    "# Notation"
   ]
  },
  {
   "cell_type": "markdown",
   "metadata": {},
   "source": [
    "$v_{it}$: stored energy in subsystem (reservior) $i$ at the beginning of stage $t$  \n",
    "$a_{it}$: energy inflow in subsystem $i$ during stage $t$   \n",
    "$q_{it}$: turbined energy (hydro generation) in subsystem $i$ during stage $t$  \n",
    "$s_{it}$: spilled energy in subsystem $i$ during stage $t$  \n",
    "$g_{kt}$: thermal generation at stage $t$ of thermal plants $k$ in each subsystem $i$ during stage $t$  \n",
    "$\\textrm{ex}_{i\\rightarrow j,t}$: energy exchange from subsystem $i$ to subsystem $j$  \n",
    "$\\textrm{ex}_{j\\rightarrow i,t}$: energy exchange from subsystem $j$ to subsystem $i$  \n",
    "$\\textrm{df}_{ijt}$: deficit account for subsystem $i$ in subsystem $j$ "
   ]
  },
  {
   "cell_type": "markdown",
   "metadata": {},
   "source": [
    "# Formulation"
   ]
  },
  {
   "cell_type": "markdown",
   "metadata": {},
   "source": [
    "Dynamics of each reservior $i$ is given by\n",
    "\\begin{equation*}\n",
    "    v_{i,t+1} + s_{it} + q_{it} - v_{it} = a_{it}\n",
    "\\end{equation*}\n",
    "Thermal plant generated energy and the hydro generated energy are the sources to satisfy demand. Energy can be exchanged between reserviors. Energy deficit will incur if demand can't be met. The supply-demand equation is thus\n",
    "\\begin{equation*}\n",
    "    q_{it} + \\sum_{k\\in\\omega_i} \\textrm{g}_{kt} + \\sum_{j} \\textrm{df}_{ijt} -\\sum_{j} \\textrm{ex}_{i\\rightarrow j,t} +\\sum_{j} \\textrm{ex}_{j\\rightarrow i,t} = d_{it}\n",
    "\\end{equation*}\n",
    "We assume there is no cost for hydro generation, $\\$u_k$ for every megawatt thermal plant $k$ produces, $\\$v_{ij}$ for every megawatt deficit account produces. Objective is to minimize energy generation cost (in thousands) over 12 months \n",
    "\\begin{equation*}\n",
    "    \\sum_{t=1}^{12} \\sum_i \\big[\\sum_k u_k g_{kt} + \\sum_j v_{ij} \\textrm{df}_{ijt}\\big]\n",
    "\\end{equation*}"
   ]
  },
  {
   "cell_type": "code",
   "execution_count": 1,
   "metadata": {},
   "outputs": [],
   "source": [
    "import pandas\n",
    "import numpy\n",
    "import matplotlib.pyplot as plt\n",
    "from msppy.msp import MSLP\n",
    "from msppy.solver import Extensive\n",
    "from msppy.solver import SDDP\n",
    "from msppy.evaluation import Evaluation\n",
    "import gurobipy"
   ]
  },
  {
   "cell_type": "markdown",
   "metadata": {},
   "source": [
    "# Data"
   ]
  },
  {
   "cell_type": "code",
   "execution_count": 2,
   "metadata": {},
   "outputs": [],
   "source": [
    "hydro_ = pandas.read_csv(\"./data/hydro.csv\", index_col=0)\n",
    "demand = pandas.read_csv(\"./data/demand.csv\", index_col=0)\n",
    "deficit_ = pandas.read_csv(\"./data/deficit.csv\", index_col=0)\n",
    "exchange_ub = pandas.read_csv(\"./data/exchange.csv\", index_col=0)\n",
    "exchange_cost = pandas.read_csv(\"./data/exchange_cost.csv\", index_col=0)\n",
    "thermal_ = [pandas.read_csv(\"./data/thermal_{}.csv\".format(i), index_col=0) for i in range(4)]"
   ]
  },
  {
   "cell_type": "markdown",
   "metadata": {},
   "source": [
    "The hydro_ dataframe gives the upper bounds of stored energy and hydro generation. It also gives the initial value of stored energy and inflow energy."
   ]
  },
  {
   "cell_type": "code",
   "execution_count": 3,
   "metadata": {},
   "outputs": [
    {
     "data": {
      "text/html": [
       "<div>\n",
       "<style scoped>\n",
       "    .dataframe tbody tr th:only-of-type {\n",
       "        vertical-align: middle;\n",
       "    }\n",
       "\n",
       "    .dataframe tbody tr th {\n",
       "        vertical-align: top;\n",
       "    }\n",
       "\n",
       "    .dataframe thead th {\n",
       "        text-align: right;\n",
       "    }\n",
       "</style>\n",
       "<table border=\"1\" class=\"dataframe\">\n",
       "  <thead>\n",
       "    <tr style=\"text-align: right;\">\n",
       "      <th></th>\n",
       "      <th>UB</th>\n",
       "      <th>INITIAL</th>\n",
       "    </tr>\n",
       "  </thead>\n",
       "  <tbody>\n",
       "    <tr>\n",
       "      <th>StoredEnergy_0</th>\n",
       "      <td>200717.6</td>\n",
       "      <td>59419.300000</td>\n",
       "    </tr>\n",
       "    <tr>\n",
       "      <th>StoredEnergy_1</th>\n",
       "      <td>19617.2</td>\n",
       "      <td>5874.900000</td>\n",
       "    </tr>\n",
       "    <tr>\n",
       "      <th>StoredEnergy_2</th>\n",
       "      <td>51806.1</td>\n",
       "      <td>12859.200000</td>\n",
       "    </tr>\n",
       "    <tr>\n",
       "      <th>StoredEnergy_3</th>\n",
       "      <td>12744.9</td>\n",
       "      <td>5271.500000</td>\n",
       "    </tr>\n",
       "    <tr>\n",
       "      <th>inflow_0</th>\n",
       "      <td>0.0</td>\n",
       "      <td>41248.715300</td>\n",
       "    </tr>\n",
       "    <tr>\n",
       "      <th>inflow_1</th>\n",
       "      <td>0.0</td>\n",
       "      <td>7386.860854</td>\n",
       "    </tr>\n",
       "    <tr>\n",
       "      <th>inflow_2</th>\n",
       "      <td>0.0</td>\n",
       "      <td>10124.561460</td>\n",
       "    </tr>\n",
       "    <tr>\n",
       "      <th>inflow_3</th>\n",
       "      <td>0.0</td>\n",
       "      <td>6123.808537</td>\n",
       "    </tr>\n",
       "    <tr>\n",
       "      <th>hydro_0</th>\n",
       "      <td>45414.3</td>\n",
       "      <td>0.000000</td>\n",
       "    </tr>\n",
       "    <tr>\n",
       "      <th>hydro_1</th>\n",
       "      <td>13081.5</td>\n",
       "      <td>0.000000</td>\n",
       "    </tr>\n",
       "    <tr>\n",
       "      <th>hydro_2</th>\n",
       "      <td>9900.9</td>\n",
       "      <td>0.000000</td>\n",
       "    </tr>\n",
       "    <tr>\n",
       "      <th>hydro_3</th>\n",
       "      <td>7629.9</td>\n",
       "      <td>0.000000</td>\n",
       "    </tr>\n",
       "  </tbody>\n",
       "</table>\n",
       "</div>"
      ],
      "text/plain": [
       "                      UB       INITIAL\n",
       "StoredEnergy_0  200717.6  59419.300000\n",
       "StoredEnergy_1   19617.2   5874.900000\n",
       "StoredEnergy_2   51806.1  12859.200000\n",
       "StoredEnergy_3   12744.9   5271.500000\n",
       "inflow_0             0.0  41248.715300\n",
       "inflow_1             0.0   7386.860854\n",
       "inflow_2             0.0  10124.561460\n",
       "inflow_3             0.0   6123.808537\n",
       "hydro_0          45414.3      0.000000\n",
       "hydro_1          13081.5      0.000000\n",
       "hydro_2           9900.9      0.000000\n",
       "hydro_3           7629.9      0.000000"
      ]
     },
     "execution_count": 3,
     "metadata": {},
     "output_type": "execute_result"
    }
   ],
   "source": [
    "hydro_"
   ]
  },
  {
   "cell_type": "markdown",
   "metadata": {},
   "source": [
    "thermal_ is a list containing four dataframes. Each dataframe provides LB, UB, Obj for each thermal plants in a specific region."
   ]
  },
  {
   "cell_type": "code",
   "execution_count": 4,
   "metadata": {},
   "outputs": [
    {
     "data": {
      "text/html": [
       "<div>\n",
       "<style scoped>\n",
       "    .dataframe tbody tr th:only-of-type {\n",
       "        vertical-align: middle;\n",
       "    }\n",
       "\n",
       "    .dataframe tbody tr th {\n",
       "        vertical-align: top;\n",
       "    }\n",
       "\n",
       "    .dataframe thead th {\n",
       "        text-align: right;\n",
       "    }\n",
       "</style>\n",
       "<table border=\"1\" class=\"dataframe\">\n",
       "  <thead>\n",
       "    <tr style=\"text-align: right;\">\n",
       "      <th></th>\n",
       "      <th>LB</th>\n",
       "      <th>UB</th>\n",
       "      <th>OBJ</th>\n",
       "    </tr>\n",
       "    <tr>\n",
       "      <th>0</th>\n",
       "      <th></th>\n",
       "      <th></th>\n",
       "      <th></th>\n",
       "    </tr>\n",
       "  </thead>\n",
       "  <tbody>\n",
       "    <tr>\n",
       "      <th>0</th>\n",
       "      <td>520.0</td>\n",
       "      <td>657</td>\n",
       "      <td>21.49</td>\n",
       "    </tr>\n",
       "    <tr>\n",
       "      <th>1</th>\n",
       "      <td>1080.0</td>\n",
       "      <td>1350</td>\n",
       "      <td>18.96</td>\n",
       "    </tr>\n",
       "    <tr>\n",
       "      <th>2</th>\n",
       "      <td>0.0</td>\n",
       "      <td>36</td>\n",
       "      <td>937.00</td>\n",
       "    </tr>\n",
       "    <tr>\n",
       "      <th>3</th>\n",
       "      <td>59.3</td>\n",
       "      <td>250</td>\n",
       "      <td>194.79</td>\n",
       "    </tr>\n",
       "    <tr>\n",
       "      <th>4</th>\n",
       "      <td>27.1</td>\n",
       "      <td>250</td>\n",
       "      <td>222.22</td>\n",
       "    </tr>\n",
       "  </tbody>\n",
       "</table>\n",
       "</div>"
      ],
      "text/plain": [
       "       LB    UB     OBJ\n",
       "0                      \n",
       "0   520.0   657   21.49\n",
       "1  1080.0  1350   18.96\n",
       "2     0.0    36  937.00\n",
       "3    59.3   250  194.79\n",
       "4    27.1   250  222.22"
      ]
     },
     "execution_count": 4,
     "metadata": {},
     "output_type": "execute_result"
    }
   ],
   "source": [
    "thermal_[0].head()"
   ]
  },
  {
   "cell_type": "markdown",
   "metadata": {},
   "source": [
    "demand is a dataframe of monthly demand in each region. Demand is assumed to be deterministic."
   ]
  },
  {
   "cell_type": "code",
   "execution_count": 5,
   "metadata": {},
   "outputs": [
    {
     "data": {
      "text/html": [
       "<div>\n",
       "<style scoped>\n",
       "    .dataframe tbody tr th:only-of-type {\n",
       "        vertical-align: middle;\n",
       "    }\n",
       "\n",
       "    .dataframe tbody tr th {\n",
       "        vertical-align: top;\n",
       "    }\n",
       "\n",
       "    .dataframe thead th {\n",
       "        text-align: right;\n",
       "    }\n",
       "</style>\n",
       "<table border=\"1\" class=\"dataframe\">\n",
       "  <thead>\n",
       "    <tr style=\"text-align: right;\">\n",
       "      <th></th>\n",
       "      <th>0</th>\n",
       "      <th>1</th>\n",
       "      <th>2</th>\n",
       "      <th>3</th>\n",
       "    </tr>\n",
       "  </thead>\n",
       "  <tbody>\n",
       "    <tr>\n",
       "      <th>0</th>\n",
       "      <td>45515</td>\n",
       "      <td>11692</td>\n",
       "      <td>10811</td>\n",
       "      <td>6507</td>\n",
       "    </tr>\n",
       "    <tr>\n",
       "      <th>1</th>\n",
       "      <td>46611</td>\n",
       "      <td>11933</td>\n",
       "      <td>10683</td>\n",
       "      <td>6564</td>\n",
       "    </tr>\n",
       "    <tr>\n",
       "      <th>2</th>\n",
       "      <td>47134</td>\n",
       "      <td>12005</td>\n",
       "      <td>10727</td>\n",
       "      <td>6506</td>\n",
       "    </tr>\n",
       "    <tr>\n",
       "      <th>3</th>\n",
       "      <td>46429</td>\n",
       "      <td>11478</td>\n",
       "      <td>10589</td>\n",
       "      <td>6556</td>\n",
       "    </tr>\n",
       "    <tr>\n",
       "      <th>4</th>\n",
       "      <td>45622</td>\n",
       "      <td>11145</td>\n",
       "      <td>10389</td>\n",
       "      <td>6645</td>\n",
       "    </tr>\n",
       "    <tr>\n",
       "      <th>5</th>\n",
       "      <td>45366</td>\n",
       "      <td>11146</td>\n",
       "      <td>10129</td>\n",
       "      <td>6669</td>\n",
       "    </tr>\n",
       "    <tr>\n",
       "      <th>6</th>\n",
       "      <td>45477</td>\n",
       "      <td>11055</td>\n",
       "      <td>10157</td>\n",
       "      <td>6627</td>\n",
       "    </tr>\n",
       "    <tr>\n",
       "      <th>7</th>\n",
       "      <td>46149</td>\n",
       "      <td>11051</td>\n",
       "      <td>10372</td>\n",
       "      <td>6772</td>\n",
       "    </tr>\n",
       "    <tr>\n",
       "      <th>8</th>\n",
       "      <td>46336</td>\n",
       "      <td>10917</td>\n",
       "      <td>10675</td>\n",
       "      <td>6843</td>\n",
       "    </tr>\n",
       "    <tr>\n",
       "      <th>9</th>\n",
       "      <td>46551</td>\n",
       "      <td>11015</td>\n",
       "      <td>10934</td>\n",
       "      <td>6815</td>\n",
       "    </tr>\n",
       "    <tr>\n",
       "      <th>10</th>\n",
       "      <td>46035</td>\n",
       "      <td>11156</td>\n",
       "      <td>11004</td>\n",
       "      <td>6871</td>\n",
       "    </tr>\n",
       "    <tr>\n",
       "      <th>11</th>\n",
       "      <td>45234</td>\n",
       "      <td>11297</td>\n",
       "      <td>10914</td>\n",
       "      <td>6701</td>\n",
       "    </tr>\n",
       "  </tbody>\n",
       "</table>\n",
       "</div>"
      ],
      "text/plain": [
       "        0      1      2     3\n",
       "0   45515  11692  10811  6507\n",
       "1   46611  11933  10683  6564\n",
       "2   47134  12005  10727  6506\n",
       "3   46429  11478  10589  6556\n",
       "4   45622  11145  10389  6645\n",
       "5   45366  11146  10129  6669\n",
       "6   45477  11055  10157  6627\n",
       "7   46149  11051  10372  6772\n",
       "8   46336  10917  10675  6843\n",
       "9   46551  11015  10934  6815\n",
       "10  46035  11156  11004  6871\n",
       "11  45234  11297  10914  6701"
      ]
     },
     "execution_count": 5,
     "metadata": {},
     "output_type": "execute_result"
    }
   ],
   "source": [
    "demand"
   ]
  },
  {
   "cell_type": "markdown",
   "metadata": {},
   "source": [
    "deficit_ dataframe gives the maximum deficit energy each region can afford and its related costs. For example, to meet the demand for region 0, the maximum deficit energy each region can afford is 5%, 5%, 10%, 80% respectively."
   ]
  },
  {
   "cell_type": "code",
   "execution_count": 6,
   "metadata": {},
   "outputs": [
    {
     "data": {
      "text/html": [
       "<div>\n",
       "<style scoped>\n",
       "    .dataframe tbody tr th:only-of-type {\n",
       "        vertical-align: middle;\n",
       "    }\n",
       "\n",
       "    .dataframe tbody tr th {\n",
       "        vertical-align: top;\n",
       "    }\n",
       "\n",
       "    .dataframe thead th {\n",
       "        text-align: right;\n",
       "    }\n",
       "</style>\n",
       "<table border=\"1\" class=\"dataframe\">\n",
       "  <thead>\n",
       "    <tr style=\"text-align: right;\">\n",
       "      <th></th>\n",
       "      <th>OBJ</th>\n",
       "      <th>DEPTH</th>\n",
       "    </tr>\n",
       "  </thead>\n",
       "  <tbody>\n",
       "    <tr>\n",
       "      <th>0</th>\n",
       "      <td>1142.80</td>\n",
       "      <td>0.05</td>\n",
       "    </tr>\n",
       "    <tr>\n",
       "      <th>1</th>\n",
       "      <td>2465.40</td>\n",
       "      <td>0.05</td>\n",
       "    </tr>\n",
       "    <tr>\n",
       "      <th>2</th>\n",
       "      <td>5152.46</td>\n",
       "      <td>0.10</td>\n",
       "    </tr>\n",
       "    <tr>\n",
       "      <th>3</th>\n",
       "      <td>5845.54</td>\n",
       "      <td>0.80</td>\n",
       "    </tr>\n",
       "  </tbody>\n",
       "</table>\n",
       "</div>"
      ],
      "text/plain": [
       "       OBJ  DEPTH\n",
       "0  1142.80   0.05\n",
       "1  2465.40   0.05\n",
       "2  5152.46   0.10\n",
       "3  5845.54   0.80"
      ]
     },
     "execution_count": 6,
     "metadata": {},
     "output_type": "execute_result"
    }
   ],
   "source": [
    "deficit_"
   ]
  },
  {
   "cell_type": "markdown",
   "metadata": {},
   "source": [
    "The exchange_ub dataframe gives the upper bound of energy flows between four regions (0,1,2,3) and one transshipment station (4). Number 99999999 indicates no upper limit. The exchange_cost dataframe gives related costs."
   ]
  },
  {
   "cell_type": "code",
   "execution_count": 7,
   "metadata": {},
   "outputs": [
    {
     "data": {
      "text/html": [
       "<div>\n",
       "<style scoped>\n",
       "    .dataframe tbody tr th:only-of-type {\n",
       "        vertical-align: middle;\n",
       "    }\n",
       "\n",
       "    .dataframe tbody tr th {\n",
       "        vertical-align: top;\n",
       "    }\n",
       "\n",
       "    .dataframe thead th {\n",
       "        text-align: right;\n",
       "    }\n",
       "</style>\n",
       "<table border=\"1\" class=\"dataframe\">\n",
       "  <thead>\n",
       "    <tr style=\"text-align: right;\">\n",
       "      <th></th>\n",
       "      <th>0</th>\n",
       "      <th>1</th>\n",
       "      <th>2</th>\n",
       "      <th>3</th>\n",
       "      <th>4</th>\n",
       "    </tr>\n",
       "  </thead>\n",
       "  <tbody>\n",
       "    <tr>\n",
       "      <th>0</th>\n",
       "      <td>0</td>\n",
       "      <td>7379</td>\n",
       "      <td>1000</td>\n",
       "      <td>0</td>\n",
       "      <td>4000</td>\n",
       "    </tr>\n",
       "    <tr>\n",
       "      <th>1</th>\n",
       "      <td>5625</td>\n",
       "      <td>0</td>\n",
       "      <td>0</td>\n",
       "      <td>0</td>\n",
       "      <td>0</td>\n",
       "    </tr>\n",
       "    <tr>\n",
       "      <th>2</th>\n",
       "      <td>600</td>\n",
       "      <td>0</td>\n",
       "      <td>0</td>\n",
       "      <td>0</td>\n",
       "      <td>2236</td>\n",
       "    </tr>\n",
       "    <tr>\n",
       "      <th>3</th>\n",
       "      <td>0</td>\n",
       "      <td>0</td>\n",
       "      <td>0</td>\n",
       "      <td>0</td>\n",
       "      <td>99999</td>\n",
       "    </tr>\n",
       "    <tr>\n",
       "      <th>4</th>\n",
       "      <td>3154</td>\n",
       "      <td>0</td>\n",
       "      <td>3951</td>\n",
       "      <td>3053</td>\n",
       "      <td>0</td>\n",
       "    </tr>\n",
       "  </tbody>\n",
       "</table>\n",
       "</div>"
      ],
      "text/plain": [
       "      0     1     2     3      4\n",
       "0     0  7379  1000     0   4000\n",
       "1  5625     0     0     0      0\n",
       "2   600     0     0     0   2236\n",
       "3     0     0     0     0  99999\n",
       "4  3154     0  3951  3053      0"
      ]
     },
     "execution_count": 7,
     "metadata": {},
     "output_type": "execute_result"
    }
   ],
   "source": [
    "exchange_ub"
   ]
  },
  {
   "cell_type": "code",
   "execution_count": 8,
   "metadata": {},
   "outputs": [
    {
     "data": {
      "text/html": [
       "<div>\n",
       "<style scoped>\n",
       "    .dataframe tbody tr th:only-of-type {\n",
       "        vertical-align: middle;\n",
       "    }\n",
       "\n",
       "    .dataframe tbody tr th {\n",
       "        vertical-align: top;\n",
       "    }\n",
       "\n",
       "    .dataframe thead th {\n",
       "        text-align: right;\n",
       "    }\n",
       "</style>\n",
       "<table border=\"1\" class=\"dataframe\">\n",
       "  <thead>\n",
       "    <tr style=\"text-align: right;\">\n",
       "      <th></th>\n",
       "      <th>0</th>\n",
       "      <th>1</th>\n",
       "      <th>2</th>\n",
       "      <th>3</th>\n",
       "      <th>4</th>\n",
       "    </tr>\n",
       "  </thead>\n",
       "  <tbody>\n",
       "    <tr>\n",
       "      <th>0</th>\n",
       "      <td>0.0000</td>\n",
       "      <td>0.0010</td>\n",
       "      <td>0.0010</td>\n",
       "      <td>0.0010</td>\n",
       "      <td>0.0005</td>\n",
       "    </tr>\n",
       "    <tr>\n",
       "      <th>1</th>\n",
       "      <td>0.0010</td>\n",
       "      <td>0.0000</td>\n",
       "      <td>0.0010</td>\n",
       "      <td>0.0010</td>\n",
       "      <td>0.0005</td>\n",
       "    </tr>\n",
       "    <tr>\n",
       "      <th>2</th>\n",
       "      <td>0.0010</td>\n",
       "      <td>0.0010</td>\n",
       "      <td>0.0000</td>\n",
       "      <td>0.0010</td>\n",
       "      <td>0.0005</td>\n",
       "    </tr>\n",
       "    <tr>\n",
       "      <th>3</th>\n",
       "      <td>0.0010</td>\n",
       "      <td>0.0010</td>\n",
       "      <td>0.0010</td>\n",
       "      <td>0.0000</td>\n",
       "      <td>0.0005</td>\n",
       "    </tr>\n",
       "    <tr>\n",
       "      <th>4</th>\n",
       "      <td>0.0005</td>\n",
       "      <td>0.0005</td>\n",
       "      <td>0.0005</td>\n",
       "      <td>0.0005</td>\n",
       "      <td>0.0000</td>\n",
       "    </tr>\n",
       "  </tbody>\n",
       "</table>\n",
       "</div>"
      ],
      "text/plain": [
       "        0       1       2       3       4\n",
       "0  0.0000  0.0010  0.0010  0.0010  0.0005\n",
       "1  0.0010  0.0000  0.0010  0.0010  0.0005\n",
       "2  0.0010  0.0010  0.0000  0.0010  0.0005\n",
       "3  0.0010  0.0010  0.0010  0.0000  0.0005\n",
       "4  0.0005  0.0005  0.0005  0.0005  0.0000"
      ]
     },
     "execution_count": 8,
     "metadata": {},
     "output_type": "execute_result"
    }
   ],
   "source": [
    "exchange_cost"
   ]
  },
  {
   "cell_type": "markdown",
   "metadata": {},
   "source": [
    "# Inflow modelling"
   ]
  },
  {
   "cell_type": "markdown",
   "metadata": {},
   "source": [
    "Inflow energy is assumed to be random. In this example, we use historical monthly data as scenarios.  \n",
    "hist is a list containing four dataframes. Each dataframe gives historical monthly data for inflow energy."
   ]
  },
  {
   "cell_type": "code",
   "execution_count": 9,
   "metadata": {},
   "outputs": [],
   "source": [
    "hist = [pandas.read_csv(\"./data/hist_{}.csv\".format(i), sep=\";\") for i in range(4)]"
   ]
  },
  {
   "cell_type": "code",
   "execution_count": 10,
   "metadata": {
    "scrolled": true
   },
   "outputs": [
    {
     "data": {
      "text/html": [
       "<div>\n",
       "<style scoped>\n",
       "    .dataframe tbody tr th:only-of-type {\n",
       "        vertical-align: middle;\n",
       "    }\n",
       "\n",
       "    .dataframe tbody tr th {\n",
       "        vertical-align: top;\n",
       "    }\n",
       "\n",
       "    .dataframe thead th {\n",
       "        text-align: right;\n",
       "    }\n",
       "</style>\n",
       "<table border=\"1\" class=\"dataframe\">\n",
       "  <thead>\n",
       "    <tr style=\"text-align: right;\">\n",
       "      <th></th>\n",
       "      <th>YEAR</th>\n",
       "      <th>JAN</th>\n",
       "      <th>FEB</th>\n",
       "      <th>MAR</th>\n",
       "      <th>APR</th>\n",
       "      <th>MAY</th>\n",
       "      <th>JUN</th>\n",
       "      <th>JUL</th>\n",
       "      <th>AUG</th>\n",
       "      <th>SEP</th>\n",
       "      <th>OCT</th>\n",
       "      <th>NOV</th>\n",
       "      <th>DEC</th>\n",
       "    </tr>\n",
       "  </thead>\n",
       "  <tbody>\n",
       "    <tr>\n",
       "      <th>0</th>\n",
       "      <td>1931</td>\n",
       "      <td>56896.80</td>\n",
       "      <td>86488.31</td>\n",
       "      <td>88646.94</td>\n",
       "      <td>64581.71</td>\n",
       "      <td>43078.74</td>\n",
       "      <td>32150.18</td>\n",
       "      <td>25738.04</td>\n",
       "      <td>20606.05</td>\n",
       "      <td>22772.16</td>\n",
       "      <td>23767.55</td>\n",
       "      <td>25831.89</td>\n",
       "      <td>38566.50</td>\n",
       "    </tr>\n",
       "    <tr>\n",
       "      <th>1</th>\n",
       "      <td>1932</td>\n",
       "      <td>56451.95</td>\n",
       "      <td>61922.34</td>\n",
       "      <td>50742.10</td>\n",
       "      <td>35954.27</td>\n",
       "      <td>27000.91</td>\n",
       "      <td>25285.24</td>\n",
       "      <td>19913.20</td>\n",
       "      <td>16801.72</td>\n",
       "      <td>15034.40</td>\n",
       "      <td>22347.14</td>\n",
       "      <td>25004.76</td>\n",
       "      <td>48755.60</td>\n",
       "    </tr>\n",
       "    <tr>\n",
       "      <th>2</th>\n",
       "      <td>1933</td>\n",
       "      <td>65408.16</td>\n",
       "      <td>51128.33</td>\n",
       "      <td>40424.25</td>\n",
       "      <td>34627.46</td>\n",
       "      <td>24456.72</td>\n",
       "      <td>19099.70</td>\n",
       "      <td>16790.67</td>\n",
       "      <td>14192.07</td>\n",
       "      <td>13741.74</td>\n",
       "      <td>17339.43</td>\n",
       "      <td>18503.66</td>\n",
       "      <td>36070.84</td>\n",
       "    </tr>\n",
       "    <tr>\n",
       "      <th>3</th>\n",
       "      <td>1934</td>\n",
       "      <td>46580.39</td>\n",
       "      <td>37113.35</td>\n",
       "      <td>35392.72</td>\n",
       "      <td>27179.93</td>\n",
       "      <td>19080.88</td>\n",
       "      <td>14173.57</td>\n",
       "      <td>11860.90</td>\n",
       "      <td>9904.96</td>\n",
       "      <td>11835.56</td>\n",
       "      <td>12925.78</td>\n",
       "      <td>13594.84</td>\n",
       "      <td>33700.23</td>\n",
       "    </tr>\n",
       "    <tr>\n",
       "      <th>4</th>\n",
       "      <td>1935</td>\n",
       "      <td>54645.97</td>\n",
       "      <td>72711.15</td>\n",
       "      <td>61323.17</td>\n",
       "      <td>54644.39</td>\n",
       "      <td>34731.77</td>\n",
       "      <td>26184.86</td>\n",
       "      <td>19927.38</td>\n",
       "      <td>19833.32</td>\n",
       "      <td>18289.43</td>\n",
       "      <td>34902.46</td>\n",
       "      <td>26176.69</td>\n",
       "      <td>32033.65</td>\n",
       "    </tr>\n",
       "  </tbody>\n",
       "</table>\n",
       "</div>"
      ],
      "text/plain": [
       "   YEAR       JAN       FEB       MAR       APR       MAY       JUN       JUL  \\\n",
       "0  1931  56896.80  86488.31  88646.94  64581.71  43078.74  32150.18  25738.04   \n",
       "1  1932  56451.95  61922.34  50742.10  35954.27  27000.91  25285.24  19913.20   \n",
       "2  1933  65408.16  51128.33  40424.25  34627.46  24456.72  19099.70  16790.67   \n",
       "3  1934  46580.39  37113.35  35392.72  27179.93  19080.88  14173.57  11860.90   \n",
       "4  1935  54645.97  72711.15  61323.17  54644.39  34731.77  26184.86  19927.38   \n",
       "\n",
       "        AUG       SEP       OCT       NOV       DEC  \n",
       "0  20606.05  22772.16  23767.55  25831.89  38566.50  \n",
       "1  16801.72  15034.40  22347.14  25004.76  48755.60  \n",
       "2  14192.07  13741.74  17339.43  18503.66  36070.84  \n",
       "3   9904.96  11835.56  12925.78  13594.84  33700.23  \n",
       "4  19833.32  18289.43  34902.46  26176.69  32033.65  "
      ]
     },
     "execution_count": 10,
     "metadata": {},
     "output_type": "execute_result"
    }
   ],
   "source": [
    "hist[0].head()"
   ]
  },
  {
   "cell_type": "markdown",
   "metadata": {},
   "source": [
    "The following plot is the first 200 months inflow data for reservior one. It clearly shows a seasonality pattern. While in this tutorial we will pretend scenarios are stage-wise independent discrete."
   ]
  },
  {
   "cell_type": "code",
   "execution_count": 11,
   "metadata": {},
   "outputs": [
    {
     "data": {
      "text/plain": [
       "[<matplotlib.lines.Line2D at 0x114809128>]"
      ]
     },
     "execution_count": 11,
     "metadata": {},
     "output_type": "execute_result"
    },
    {
     "data": {
      "image/png": "[encoded data removed]",
      "text/plain": [
       "<Figure size 432x288 with 1 Axes>"
      ]
     },
     "metadata": {
      "needs_background": "light"
     },
     "output_type": "display_data"
    }
   ],
   "source": [
    "plt.plot(hist[0].values.flatten()[0:200])"
   ]
  },
  {
   "cell_type": "markdown",
   "metadata": {},
   "source": [
    "Concatenate the four dataframes and remove NA"
   ]
  },
  {
   "cell_type": "code",
   "execution_count": 12,
   "metadata": {},
   "outputs": [],
   "source": [
    "hist = pandas.concat(hist, axis=1)\n",
    "hist.dropna(inplace=True)\n",
    "hist.drop(columns='YEAR', inplace=True)"
   ]
  },
  {
   "cell_type": "markdown",
   "metadata": {},
   "source": [
    "Each column of hist dataframe now gives scenarios of monthly inflow energy."
   ]
  },
  {
   "cell_type": "code",
   "execution_count": 13,
   "metadata": {
    "scrolled": true
   },
   "outputs": [
    {
     "data": {
      "text/html": [
       "<div>\n",
       "<style scoped>\n",
       "    .dataframe tbody tr th:only-of-type {\n",
       "        vertical-align: middle;\n",
       "    }\n",
       "\n",
       "    .dataframe tbody tr th {\n",
       "        vertical-align: top;\n",
       "    }\n",
       "\n",
       "    .dataframe thead th {\n",
       "        text-align: right;\n",
       "    }\n",
       "</style>\n",
       "<table border=\"1\" class=\"dataframe\">\n",
       "  <thead>\n",
       "    <tr style=\"text-align: right;\">\n",
       "      <th></th>\n",
       "      <th>JAN</th>\n",
       "      <th>FEB</th>\n",
       "      <th>MAR</th>\n",
       "      <th>APR</th>\n",
       "      <th>MAY</th>\n",
       "      <th>JUN</th>\n",
       "      <th>JUL</th>\n",
       "      <th>AUG</th>\n",
       "      <th>SEP</th>\n",
       "      <th>OCT</th>\n",
       "      <th>...</th>\n",
       "      <th>MAR</th>\n",
       "      <th>APR</th>\n",
       "      <th>MAY</th>\n",
       "      <th>JUN</th>\n",
       "      <th>JUL</th>\n",
       "      <th>AUG</th>\n",
       "      <th>SEP</th>\n",
       "      <th>OCT</th>\n",
       "      <th>NOV</th>\n",
       "      <th>DEC</th>\n",
       "    </tr>\n",
       "  </thead>\n",
       "  <tbody>\n",
       "    <tr>\n",
       "      <th>0</th>\n",
       "      <td>56896.80</td>\n",
       "      <td>86488.31</td>\n",
       "      <td>88646.94</td>\n",
       "      <td>64581.71</td>\n",
       "      <td>43078.74</td>\n",
       "      <td>32150.18</td>\n",
       "      <td>25738.04</td>\n",
       "      <td>20606.05</td>\n",
       "      <td>22772.16</td>\n",
       "      <td>23767.55</td>\n",
       "      <td>...</td>\n",
       "      <td>23409.86</td>\n",
       "      <td>23382.44</td>\n",
       "      <td>10800.89</td>\n",
       "      <td>6555.49</td>\n",
       "      <td>4487.15</td>\n",
       "      <td>3223.12</td>\n",
       "      <td>2494.37</td>\n",
       "      <td>2569.03</td>\n",
       "      <td>4641.31</td>\n",
       "      <td>5928.45</td>\n",
       "    </tr>\n",
       "    <tr>\n",
       "      <th>1</th>\n",
       "      <td>56451.95</td>\n",
       "      <td>61922.34</td>\n",
       "      <td>50742.10</td>\n",
       "      <td>35954.27</td>\n",
       "      <td>27000.91</td>\n",
       "      <td>25285.24</td>\n",
       "      <td>19913.20</td>\n",
       "      <td>16801.72</td>\n",
       "      <td>15034.40</td>\n",
       "      <td>22347.14</td>\n",
       "      <td>...</td>\n",
       "      <td>14320.59</td>\n",
       "      <td>10803.52</td>\n",
       "      <td>6621.21</td>\n",
       "      <td>4734.66</td>\n",
       "      <td>3104.44</td>\n",
       "      <td>2097.61</td>\n",
       "      <td>1673.39</td>\n",
       "      <td>2055.48</td>\n",
       "      <td>3710.95</td>\n",
       "      <td>6305.46</td>\n",
       "    </tr>\n",
       "    <tr>\n",
       "      <th>2</th>\n",
       "      <td>65408.16</td>\n",
       "      <td>51128.33</td>\n",
       "      <td>40424.25</td>\n",
       "      <td>34627.46</td>\n",
       "      <td>24456.72</td>\n",
       "      <td>19099.70</td>\n",
       "      <td>16790.67</td>\n",
       "      <td>14192.07</td>\n",
       "      <td>13741.74</td>\n",
       "      <td>17339.43</td>\n",
       "      <td>...</td>\n",
       "      <td>13800.87</td>\n",
       "      <td>14378.16</td>\n",
       "      <td>9859.45</td>\n",
       "      <td>5247.05</td>\n",
       "      <td>3383.62</td>\n",
       "      <td>2428.81</td>\n",
       "      <td>1773.43</td>\n",
       "      <td>1617.70</td>\n",
       "      <td>4108.02</td>\n",
       "      <td>7741.12</td>\n",
       "    </tr>\n",
       "    <tr>\n",
       "      <th>3</th>\n",
       "      <td>46580.39</td>\n",
       "      <td>37113.35</td>\n",
       "      <td>35392.72</td>\n",
       "      <td>27179.93</td>\n",
       "      <td>19080.88</td>\n",
       "      <td>14173.57</td>\n",
       "      <td>11860.90</td>\n",
       "      <td>9904.96</td>\n",
       "      <td>11835.56</td>\n",
       "      <td>12925.78</td>\n",
       "      <td>...</td>\n",
       "      <td>14352.06</td>\n",
       "      <td>13302.03</td>\n",
       "      <td>10134.26</td>\n",
       "      <td>5947.45</td>\n",
       "      <td>3729.34</td>\n",
       "      <td>2481.26</td>\n",
       "      <td>1469.26</td>\n",
       "      <td>1797.54</td>\n",
       "      <td>2322.72</td>\n",
       "      <td>5572.98</td>\n",
       "    </tr>\n",
       "    <tr>\n",
       "      <th>4</th>\n",
       "      <td>54645.97</td>\n",
       "      <td>72711.15</td>\n",
       "      <td>61323.17</td>\n",
       "      <td>54644.39</td>\n",
       "      <td>34731.77</td>\n",
       "      <td>26184.86</td>\n",
       "      <td>19927.38</td>\n",
       "      <td>19833.32</td>\n",
       "      <td>18289.43</td>\n",
       "      <td>34902.46</td>\n",
       "      <td>...</td>\n",
       "      <td>18872.78</td>\n",
       "      <td>23222.27</td>\n",
       "      <td>15783.48</td>\n",
       "      <td>8962.09</td>\n",
       "      <td>5208.33</td>\n",
       "      <td>3864.63</td>\n",
       "      <td>2816.89</td>\n",
       "      <td>2790.11</td>\n",
       "      <td>4112.86</td>\n",
       "      <td>7840.01</td>\n",
       "    </tr>\n",
       "  </tbody>\n",
       "</table>\n",
       "<p>5 rows × 48 columns</p>\n",
       "</div>"
      ],
      "text/plain": [
       "        JAN       FEB       MAR       APR       MAY       JUN       JUL  \\\n",
       "0  56896.80  86488.31  88646.94  64581.71  43078.74  32150.18  25738.04   \n",
       "1  56451.95  61922.34  50742.10  35954.27  27000.91  25285.24  19913.20   \n",
       "2  65408.16  51128.33  40424.25  34627.46  24456.72  19099.70  16790.67   \n",
       "3  46580.39  37113.35  35392.72  27179.93  19080.88  14173.57  11860.90   \n",
       "4  54645.97  72711.15  61323.17  54644.39  34731.77  26184.86  19927.38   \n",
       "\n",
       "        AUG       SEP       OCT   ...          MAR       APR       MAY  \\\n",
       "0  20606.05  22772.16  23767.55   ...     23409.86  23382.44  10800.89   \n",
       "1  16801.72  15034.40  22347.14   ...     14320.59  10803.52   6621.21   \n",
       "2  14192.07  13741.74  17339.43   ...     13800.87  14378.16   9859.45   \n",
       "3   9904.96  11835.56  12925.78   ...     14352.06  13302.03  10134.26   \n",
       "4  19833.32  18289.43  34902.46   ...     18872.78  23222.27  15783.48   \n",
       "\n",
       "       JUN      JUL      AUG      SEP      OCT      NOV      DEC  \n",
       "0  6555.49  4487.15  3223.12  2494.37  2569.03  4641.31  5928.45  \n",
       "1  4734.66  3104.44  2097.61  1673.39  2055.48  3710.95  6305.46  \n",
       "2  5247.05  3383.62  2428.81  1773.43  1617.70  4108.02  7741.12  \n",
       "3  5947.45  3729.34  2481.26  1469.26  1797.54  2322.72  5572.98  \n",
       "4  8962.09  5208.33  3864.63  2816.89  2790.11  4112.86  7840.01  \n",
       "\n",
       "[5 rows x 48 columns]"
      ]
     },
     "execution_count": 13,
     "metadata": {},
     "output_type": "execute_result"
    }
   ],
   "source": [
    "hist.head()"
   ]
  },
  {
   "cell_type": "markdown",
   "metadata": {},
   "source": [
    " Disjoin scenarios for each regions."
   ]
  },
  {
   "cell_type": "code",
   "execution_count": 14,
   "metadata": {},
   "outputs": [],
   "source": [
    "scenarios = [hist.iloc[:,12*i:12*(i+1)].transpose().values for i in range(4)]"
   ]
  },
  {
   "cell_type": "markdown",
   "metadata": {},
   "source": [
    "# Solution"
   ]
  },
  {
   "cell_type": "code",
   "execution_count": 15,
   "metadata": {},
   "outputs": [],
   "source": [
    "T = 3"
   ]
  },
  {
   "cell_type": "markdown",
   "metadata": {},
   "source": [
    "## STEP ONE: BUILD THE TRUE PROBLEM"
   ]
  },
  {
   "cell_type": "code",
   "execution_count": 16,
   "metadata": {},
   "outputs": [
    {
     "name": "stdout",
     "output_type": "stream",
     "text": [
      "Academic license - for non-commercial use only\n",
      "Academic license - for non-commercial use only\n",
      "Academic license - for non-commercial use only\n"
     ]
    }
   ],
   "source": [
    "HydroThermal = MSLP(T=T, bound=0, discount=0.9906)\n",
    "for t in range(T):\n",
    "    m = HydroThermal[t]\n",
    "    stored_now, stored_past = m.addStateVars(4, ub=hydro_['UB'][:4], name=\"stored\")\n",
    "    spill = m.addVars(4, name=\"spill\", obj=0.001)\n",
    "    hydro = m.addVars(4, ub=hydro_['UB'][-4:], name=\"hydro\")    \n",
    "    deficit = m.addVars(\n",
    "        [(i,j) for i in range(4) for j in range(4)], \n",
    "        ub = [demand.iloc[t%12][i] * deficit_['DEPTH'][j] for i in range(4) for j in range(4)],\n",
    "        obj = [deficit_['OBJ'][j] for i in range(4) for j in range(4)], \n",
    "        name = \"deficit\")\n",
    "    thermal = [None] * 4\n",
    "    for i in range(4):\n",
    "        thermal[i] = m.addVars(\n",
    "            len(thermal_[i]), \n",
    "            ub=thermal_[i]['UB'], \n",
    "            lb=thermal_[i]['LB'], \n",
    "            obj=thermal_[i]['OBJ'], \n",
    "            name=\"thermal_{}\".format(i)\n",
    "        )\n",
    "    exchange = m.addVars(5,5, obj=exchange_cost.values.flatten(),\n",
    "        ub=exchange_ub.values.flatten(), name=\"exchange\")    \n",
    "    thermal_sum = m.addVars(4, name=\"thermal_sum\")\n",
    "    m.addConstrs(thermal_sum[i] == gurobipy.quicksum(thermal[i].values()) for i in range(4))\n",
    "    \n",
    "    for i in range(4): \n",
    "        m.addConstr(\n",
    "            thermal_sum[i] \n",
    "            + gurobipy.quicksum(deficit[(i,j)] for j in range(4)) \n",
    "            + hydro[i] \n",
    "            - gurobipy.quicksum(exchange[(i,j)] for j in range(5))\n",
    "            + gurobipy.quicksum(exchange[(j,i)] for j in range(5)) \n",
    "            == demand.iloc[t%12][i]\n",
    "        )\n",
    "    m.addConstr(\n",
    "        gurobipy.quicksum(exchange[(j,4)] for j in range(5)) \n",
    "        - gurobipy.quicksum(exchange[(4,j)] for j in range(5)) \n",
    "        == 0\n",
    "    )\n",
    "    for i in range(4):\n",
    "        if t == 0:\n",
    "            m.addConstr(\n",
    "                stored_now[i] + spill[i] + hydro[i] - stored_past[i] \n",
    "                == hydro_['INITIAL'][4:8][i]\n",
    "            )\n",
    "        else:\n",
    "            m.addConstr(\n",
    "                stored_now[i] + spill[i] + hydro[i] - stored_past[i] == 0, \n",
    "                uncertainty={'rhs': scenarios[i][(t-1)%12]}\n",
    "            )\n",
    "    if t == 0:\n",
    "        m.addConstrs(stored_past[i] == hydro_['INITIAL'][:4][i] for i in range(4))"
   ]
  },
  {
   "cell_type": "markdown",
   "metadata": {},
   "source": [
    "## STEP THREE: SOLVE AN APPROXIMATION MODEL"
   ]
  },
  {
   "cell_type": "markdown",
   "metadata": {},
   "source": [
    "### Call an Extensive solver"
   ]
  },
  {
   "cell_type": "code",
   "execution_count": 17,
   "metadata": {},
   "outputs": [],
   "source": [
    "# Extensive(HydroThermal).solve(outputFlag=0)"
   ]
  },
  {
   "cell_type": "markdown",
   "metadata": {},
   "source": [
    "### Call an SDDP solver"
   ]
  },
  {
   "cell_type": "code",
   "execution_count": 18,
   "metadata": {},
   "outputs": [
    {
     "name": "stderr",
     "output_type": "stream",
     "text": [
      "------------------------------------------------------------------------------------\n",
      "                             SDDP Solver, Lingquan Ding                             \n",
      "------------------------------------------------------------------------------------\n",
      "   Iteration               Bound            Value 95% CI (3)                    Time\n",
      "------------------------------------------------------------------------------------\n",
      "           1       762297.905704      695546.332960, 878128.025838          0.249763\n",
      "           2       763925.784811      710949.615664, 817725.790534          0.209094\n",
      "           3       764050.876607      701054.132947, 878995.160578          0.216113\n",
      "           4       764110.745713      703739.544456, 913293.720105          0.226620\n",
      "           5       764135.018492      718024.669242, 827518.885087          0.439394\n",
      "           6       764139.061752      717003.234647, 823154.179587          0.497856\n",
      "           7       764149.669658      726844.662879, 761678.871865          0.382535\n",
      "           8       764157.573969      726539.920060, 797517.951004          0.253603\n",
      "           9       764160.938047      728030.102223, 767755.866606          0.357637\n",
      "          10       764174.629127      718495.671896, 785451.204091          0.263054\n",
      "          11       764175.491173      716737.996749, 857352.627458          0.494763\n",
      "          12       764175.567243      728934.127504, 752983.505303          0.522348\n",
      "          13       764175.687999      732659.591241, 738706.375876          0.616058\n",
      "          14       764177.157172      723879.829907, 811568.647968          0.335039\n",
      "          15       764177.293141      699316.758744, 855130.342186          0.302588\n",
      "          16       764177.347607      716389.222186, 814042.159911          0.296217\n",
      "          17       764181.483984      729553.317891, 774352.185745          0.285726\n",
      "          18       764183.681177      732810.935365, 775243.082344          0.294054\n",
      "          19       764183.697453      713417.438283, 838798.913095          0.407323\n",
      "          20       764183.798390      735107.049280, 742088.126759          0.331168\n",
      "          21       764183.875427      693442.908597, 867686.288379          0.390608\n",
      "          22       764183.875977      706519.309565, 816212.982014          0.373115\n",
      "          23       764183.883829      721248.793838, 775168.426479          0.469625\n",
      "          24       764183.883829      715920.986776, 808258.665217          0.429583\n",
      "          25       764183.884616      722237.190027, 828460.712728          0.337848\n",
      "          26       764184.788019      720894.103783, 792514.084715          0.459343\n",
      "          27       764184.788718      734684.611853, 742710.565559          0.340810\n",
      "          28       764184.869905      690532.126180, 855703.866180          0.450550\n",
      "          29       764184.876733      681934.417115, 875328.099049          0.313950\n",
      "          30       764184.876733      717604.489074, 808110.252114          0.474760\n",
      "          31       764184.877708      721128.453522, 787506.612011          0.382303\n",
      "          32       764184.878018      732087.395266, 744249.740908          0.416285\n",
      "          33       764184.878018      715224.495714, 813450.815622          0.360863\n",
      "          34       764184.878018      726213.640736, 833842.437559          0.338300\n",
      "          35       764184.878018      717246.046832, 796512.980262          0.349724\n",
      "          36       764184.878018      721990.618378, 819791.827551          0.366976\n",
      "          37       764184.878018      733393.311144, 745889.471274          0.461052\n",
      "          38       764184.878018      733971.449769, 754584.255302          0.455072\n",
      "          39       764184.878018      726010.878135, 758402.310900          0.430372\n",
      "          40       764184.878018      728944.586547, 772070.601623          0.485362\n",
      "------------------------------------------------------------------------------------\n",
      "Time: 15.067455053329468 seconds\n",
      "Algorithm stops since iteration:40 has reached\n"
     ]
    }
   ],
   "source": [
    "HydroThermal_SDDP = SDDP(HydroThermal)\n",
    "HydroThermal_SDDP.solve(logFile=0, n_processes=3, n_steps=12, max_iterations=40)"
   ]
  },
  {
   "cell_type": "markdown",
   "metadata": {},
   "source": [
    "## STEP FOUR: EVALUATE THE COMPUTED POLICY\n",
    "We now evaluate the policy by computing the policy values exhaustively for every scenarios. Suppose we are interested in solutions of hydro-generation. "
   ]
  },
  {
   "cell_type": "code",
   "execution_count": 19,
   "metadata": {},
   "outputs": [
    {
     "data": {
      "text/plain": [
       "<matplotlib.axes._subplots.AxesSubplot at 0x1a170a6f60>"
      ]
     },
     "execution_count": 19,
     "metadata": {},
     "output_type": "execute_result"
    },
    {
     "data": {
      "image/png": "[encoded data removed]",
      "text/plain": [
       "<Figure size 432x288 with 1 Axes>"
      ]
     },
     "metadata": {
      "needs_background": "light"
     },
     "output_type": "display_data"
    }
   ],
   "source": [
    "result = Evaluation(HydroThermal)\n",
    "result.run(n_simulations=-1, query = ['hydro[{}]'.format(i) for i in range(4)])\n",
    "%matplotlib inline\n",
    "result.solution['hydro[0]'].plot(legend = False)"
   ]
  },
  {
   "cell_type": "markdown",
   "metadata": {},
   "source": [
    "epv is the exact value of the expected policy value. pv is the list of computed policy values."
   ]
  },
  {
   "cell_type": "code",
   "execution_count": 20,
   "metadata": {},
   "outputs": [
    {
     "data": {
      "text/plain": [
       "(764184.8895232187, 82575.49339502267)"
      ]
     },
     "execution_count": 20,
     "metadata": {},
     "output_type": "execute_result"
    }
   ],
   "source": [
    "result.epv, numpy.std(result.pv)"
   ]
  }
 ],
 "metadata": {
  "kernelspec": {
   "display_name": "Python 3",
   "language": "python",
   "name": "python3"
  },
  "language_info": {
   "codemirror_mode": {
    "name": "ipython",
    "version": 3
   },
   "file_extension": ".py",
   "mimetype": "text/x-python",
   "name": "python",
   "nbconvert_exporter": "python",
   "pygments_lexer": "ipython3",
   "version": "3.7.1"
  }
 },
 "nbformat": 4,
 "nbformat_minor": 2
}
