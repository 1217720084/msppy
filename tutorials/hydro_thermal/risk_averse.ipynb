{
 "cells": [
  {
   "cell_type": "code",
   "execution_count": 1,
   "metadata": {},
   "outputs": [],
   "source": [
    "import pandas\n",
    "import numpy\n",
    "import matplotlib.pyplot as plt\n",
    "from msppy.msp import MSLP\n",
    "from msppy.solver import Extensive\n",
    "from msppy.solver import SDDP\n",
    "from msppy.evaluation import Evaluation\n",
    "import gurobipy"
   ]
  },
  {
   "cell_type": "code",
   "execution_count": 2,
   "metadata": {},
   "outputs": [],
   "source": [
    "hydro_ = pandas.read_csv(\"./data/hydro.csv\", index_col=0)\n",
    "demand = pandas.read_csv(\"./data/demand.csv\", index_col=0)\n",
    "deficit_ = pandas.read_csv(\"./data/deficit.csv\", index_col=0)\n",
    "exchange_ub = pandas.read_csv(\"./data/exchange.csv\", index_col=0)\n",
    "exchange_cost = pandas.read_csv(\"./data/exchange_cost.csv\", index_col=0)\n",
    "thermal_ = [pandas.read_csv(\"./data/thermal_{}.csv\".format(i), index_col=0) for i in range(4)]\n",
    "hist = [pandas.read_csv(\"./data/hist_{}.csv\".format(i), sep=\";\") for i in range(4)]\n",
    "hist = pandas.concat(hist, axis=1)\n",
    "hist.dropna(inplace=True)\n",
    "hist.drop(columns='YEAR', inplace=True)\n",
    "scenarios = [hist.iloc[:,12*i:12*(i+1)].transpose().values for i in range(4)]"
   ]
  },
  {
   "cell_type": "code",
   "execution_count": 3,
   "metadata": {},
   "outputs": [
    {
     "name": "stdout",
     "output_type": "stream",
     "text": [
      "Academic license - for non-commercial use only\n",
      "Academic license - for non-commercial use only\n",
      "Academic license - for non-commercial use only\n"
     ]
    }
   ],
   "source": [
    "T = 3\n",
    "HydroThermal = MSLP(T=T, bound=0, discount=0.9906)\n",
    "for t in range(T):\n",
    "    m = HydroThermal[t]\n",
    "    stored_now, stored_past = m.addStateVars(4, ub=hydro_['UB'][:4], name=\"stored\")\n",
    "    spill = m.addVars(4, name=\"spill\",obj=0.001)\n",
    "    hydro = m.addVars(4, ub=hydro_['UB'][-4:], name=\"hydro\")    \n",
    "    deficit = m.addVars(\n",
    "        [(i,j) for i in range(4) for j in range(4)], \n",
    "        ub = [demand.iloc[t%12][i] * deficit_['DEPTH'][j] for i in range(4) for j in range(4)],\n",
    "        obj = [deficit_['OBJ'][j] for i in range(4) for j in range(4)], \n",
    "        name = \"deficit\")\n",
    "    thermal = [None] * 4\n",
    "    for i in range(4):\n",
    "        thermal[i] = m.addVars(\n",
    "            len(thermal_[i]), \n",
    "            ub=thermal_[i]['UB'], \n",
    "            lb=thermal_[i]['LB'], \n",
    "            obj=thermal_[i]['OBJ'], \n",
    "            name=\"thermal_{}\".format(i)\n",
    "        )\n",
    "    exchange = m.addVars(5,5, obj=exchange_cost.values.flatten(),\n",
    "        ub=exchange_ub.values.flatten(), name=\"exchange\")        \n",
    "    thermal_sum = m.addVars(4, name=\"thermal_sum\")\n",
    "    m.addConstrs(thermal_sum[i] == gurobipy.quicksum(thermal[i].values()) for i in range(4))\n",
    "    \n",
    "    for i in range(4): \n",
    "        m.addConstr(\n",
    "            thermal_sum[i] \n",
    "            + gurobipy.quicksum(deficit[(i,j)] for j in range(4)) \n",
    "            + hydro[i] \n",
    "            - gurobipy.quicksum(exchange[(i,j)] for j in range(5))\n",
    "            + gurobipy.quicksum(exchange[(j,i)] for j in range(5)) \n",
    "            == demand.iloc[t%12][i]\n",
    "        )\n",
    "    m.addConstr(\n",
    "        gurobipy.quicksum(exchange[(j,4)] for j in range(5)) \n",
    "        - gurobipy.quicksum(exchange[(4,j)] for j in range(5)) \n",
    "        == 0\n",
    "    )\n",
    "    for i in range(4):\n",
    "        if t == 0:\n",
    "            m.addConstr(\n",
    "                stored_now[i] + spill[i] + hydro[i] - stored_past[i] \n",
    "                == hydro_['INITIAL'][4:8][i]\n",
    "            )\n",
    "        else:\n",
    "            m.addConstr(\n",
    "                stored_now[i] + spill[i] + hydro[i] - stored_past[i] == 0, \n",
    "                uncertainty = {'rhs': scenarios[i][(t-1)%12]}\n",
    "            )\n",
    "    if t == 0:\n",
    "        m.addConstrs(stored_past[i] == hydro_['INITIAL'][:4][i] for i in range(4))"
   ]
  },
  {
   "cell_type": "code",
   "execution_count": 4,
   "metadata": {},
   "outputs": [],
   "source": [
    "HydroThermal.set_AVaR(lambda_=0.9, alpha_=0.05)"
   ]
  },
  {
   "cell_type": "code",
   "execution_count": 5,
   "metadata": {},
   "outputs": [
    {
     "name": "stdout",
     "output_type": "stream",
     "text": [
      "Academic license - for non-commercial use only\n"
     ]
    },
    {
     "data": {
      "text/plain": [
       "1138228.533788362"
      ]
     },
     "execution_count": 5,
     "metadata": {},
     "output_type": "execute_result"
    }
   ],
   "source": [
    "Extensive(HydroThermal).solve(outputFlag=0)"
   ]
  },
  {
   "cell_type": "code",
   "execution_count": 6,
   "metadata": {},
   "outputs": [
    {
     "name": "stderr",
     "output_type": "stream",
     "text": [
      "------------------------------------------------------------------------------------\n",
      "                             SDDP Solver, Lingquan Ding                             \n",
      "------------------------------------------------------------------------------------\n",
      "   Iteration               Bound            Value 95% CI (3)                    Time\n",
      "------------------------------------------------------------------------------------\n",
      "           1       821875.171756      692708.492050, 884207.918004          0.273211\n",
      "           2      1100168.413462      768825.345291, 837227.561569          0.266383\n",
      "           3      1134930.900226      814023.238666, 916306.542898          0.331615\n",
      "           4      1135369.122277      819476.638310, 919546.569767          0.346709\n",
      "           5      1136583.648284      825246.167283, 867377.508013          0.301079\n",
      "           6      1137213.272971      817392.917674, 860747.634631          0.307362\n",
      "           7      1137369.732110      818671.746836, 856383.259593          0.323367\n",
      "           8      1137380.328283      832488.358911, 867973.925813          0.387355\n",
      "           9      1137387.964319      823922.096373, 844978.502952          0.384322\n",
      "          10      1137427.416801      822035.254370, 860656.148125          0.411744\n",
      "          11      1137864.625794      824542.604243, 887477.779581          0.728073\n",
      "          12      1137864.960973      814417.235141, 848688.112539          0.388724\n",
      "          13      1137864.971284      820997.349959, 840500.177711          0.417011\n",
      "          14      1137867.561484      839716.541241, 880209.372560          0.389061\n",
      "          15      1137876.528926      814288.908330, 894241.701618          0.425547\n",
      "          16      1137879.215825      823171.815726, 869099.059750          0.473946\n",
      "          17      1137879.306469      828852.229075, 865417.807058          0.381225\n",
      "          18      1137879.354932      825410.349195, 856866.262620          0.466975\n",
      "          19      1137879.362077      830913.321914, 888556.086702          0.486849\n",
      "          20      1137879.411106      828542.690482, 857618.939416          0.508447\n",
      "          21      1137879.458277      813716.983853, 906761.715607          0.537832\n",
      "          22      1137879.466085      815466.556169, 855699.540964          0.523263\n",
      "          23      1137879.467622      820655.690167, 855644.157466          0.520649\n",
      "          24      1138058.605088      825273.716913, 889780.011005          0.590017\n",
      "          25      1138058.685564      827855.920230, 867279.894327          0.511739\n",
      "          26      1138059.561435      815316.433969, 872579.697406          0.509141\n",
      "          27      1138059.671827      821196.597440, 844522.553104          0.737569\n",
      "          28      1138059.671909      804820.684615, 889879.043250          0.634137\n",
      "          29      1138059.673710      805038.420506, 908801.619828          0.672321\n",
      "          30      1138059.674235      843553.273192, 897638.903579          0.570516\n",
      "          31      1138059.674556      819503.472601, 863391.507433          0.567459\n",
      "          32      1138059.686667      818722.395598, 856798.264180          0.563801\n",
      "          33      1138059.686686      831402.350500, 874377.228466          0.566431\n",
      "          34      1138059.686699      835478.095034, 877838.979584          0.578369\n",
      "          35      1138059.686699      824195.887326, 855731.581152          0.612347\n",
      "          36      1138059.689873      822390.116165, 871277.144552          0.578571\n",
      "          37      1138059.734609      823394.530945, 848322.313098          0.572572\n",
      "          38      1138059.735245      822760.163293, 861307.042548          0.604704\n",
      "          39      1138059.735265      811816.759813, 858799.349522          0.552826\n",
      "          40      1138059.736715      825761.679764, 874080.688673          0.697875\n",
      "------------------------------------------------------------------------------------\n",
      "Time: 19.701144456863403 seconds\n",
      "Algorithm stops since iteration:40 has reached\n"
     ]
    }
   ],
   "source": [
    "HydroThermal_SDDP = SDDP(HydroThermal)\n",
    "HydroThermal_SDDP.solve(logFile=0, n_processes=3, n_steps=12, max_iterations=40)"
   ]
  },
  {
   "cell_type": "code",
   "execution_count": 7,
   "metadata": {},
   "outputs": [
    {
     "data": {
      "text/plain": [
       "(847479.7870219969, 45457.44760661377)"
      ]
     },
     "execution_count": 7,
     "metadata": {},
     "output_type": "execute_result"
    }
   ],
   "source": [
    "result = Evaluation(HydroThermal)\n",
    "result.run(n_simulations=-1)\n",
    "result.epv, numpy.std(result.pv)"
   ]
  }
 ],
 "metadata": {
  "kernelspec": {
   "display_name": "Python 3",
   "language": "python",
   "name": "python3"
  },
  "language_info": {
   "codemirror_mode": {
    "name": "ipython",
    "version": 3
   },
   "file_extension": ".py",
   "mimetype": "text/x-python",
   "name": "python",
   "nbconvert_exporter": "python",
   "pygments_lexer": "ipython3",
   "version": "3.7.1"
  }
 },
 "nbformat": 4,
 "nbformat_minor": 2
}
