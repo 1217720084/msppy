{
 "cells": [
  {
   "cell_type": "code",
   "execution_count": 1,
   "metadata": {},
   "outputs": [],
   "source": [
    "import pandas\n",
    "import numpy\n",
    "import matplotlib.pyplot as plt\n",
    "import gurobipy\n",
    "from msppy.msp import MSLP\n",
    "from msppy.solver import SDDP\n",
    "from msppy.evaluation import EvaluationTrue\n",
    "from msppy.utils.statistics import compute_CI"
   ]
  },
  {
   "cell_type": "code",
   "execution_count": 2,
   "metadata": {},
   "outputs": [],
   "source": [
    "hydro_ = pandas.read_csv(\"./data/hydro.csv\", index_col=0)\n",
    "demand = pandas.read_csv(\"./data/demand.csv\", index_col=0)\n",
    "deficit_ = pandas.read_csv(\"./data/deficit.csv\", index_col=0)\n",
    "exchange_ub = pandas.read_csv(\"./data/exchange.csv\", index_col=0)\n",
    "exchange_cost = pandas.read_csv(\"./data/exchange_cost.csv\", index_col=0)\n",
    "thermal_ = [pandas.read_csv(\"./data/thermal_{}.csv\".format(i), index_col=0) for i in range(4)]\n",
    "hist = [pandas.read_csv(\"./data/hist_{}.csv\".format(i), index_col=0, sep=';') for i in range(4)]\n",
    "stored_initial = numpy.array(hydro_['INITIAL'][:4])\n",
    "inflow_initial = numpy.array(hydro_['INITIAL'][4:8])\n",
    "gamma = numpy.array(pandas.read_csv(\n",
    "    \"./data/gamma.csv\",\n",
    "    names=[0,1,2,3],\n",
    "    index_col=0,\n",
    "    skiprows=1,\n",
    "))\n",
    "sigma = [\n",
    "    numpy.array(pandas.read_csv(\n",
    "        \"./data/sigma_{}.csv\".format(i),\n",
    "        names=[0,1,2,3],\n",
    "        index_col=0,\n",
    "        skiprows=1,\n",
    "    )) for i in range(12)\n",
    "]\n",
    "exp_mu = numpy.array(pandas.read_csv(\n",
    "    \"./data/exp_mu.csv\",\n",
    "    names=[0,1,2,3],\n",
    "    index_col=0,\n",
    "    skiprows=1,\n",
    "))"
   ]
  },
  {
   "cell_type": "markdown",
   "metadata": {},
   "source": [
    "$X_t = e^{\\epsilon_t}[\\mu_t+\\gamma_t \\frac{\\mu_t}{\\mu_{t-1}}(X_{t-1}-\\mu_{t-1})]$\n",
    "\n",
    "$=e^{\\epsilon_t}\\gamma_t \\frac{\\mu_t}{\\mu_{t-1}}X_{t-1}+e^{\\epsilon_t}(1-\\gamma_t)\\mu_{t}$"
   ]
  },
  {
   "cell_type": "code",
   "execution_count": 6,
   "metadata": {},
   "outputs": [],
   "source": [
    "def sampler(t):\n",
    "    def inner(random_state):\n",
    "        noise = numpy.exp(random_state.multivariate_normal(mean=[0]*4, cov=sigma[t%12]))\n",
    "        coef = [None]*4\n",
    "        rhs = [None]*4\n",
    "        for i in range(4):\n",
    "            coef[i] = -noise[i]*gamma[t%12][i]*exp_mu[t%12][i]/exp_mu[(t-1)%12][i]\n",
    "            rhs[i] = noise[i]*(1-gamma[t%12][i])*exp_mu[t%12][i]\n",
    "        return (coef+rhs)\n",
    "    return inner"
   ]
  },
  {
   "cell_type": "code",
   "execution_count": 7,
   "metadata": {},
   "outputs": [
    {
     "name": "stdout",
     "output_type": "stream",
     "text": [
      "Academic license - for non-commercial use only\n",
      "Academic license - for non-commercial use only\n",
      "Academic license - for non-commercial use only\n"
     ]
    }
   ],
   "source": [
    "T = 3\n",
    "HydroThermal = MSLP(T=T, bound=0, discount=0.9906)\n",
    "for t in range(T):\n",
    "    m = HydroThermal[t]\n",
    "    stored_now, stored_past = m.addStateVars(4, ub=hydro_['UB'][:4], name=\"stored\")\n",
    "    inflow_now, inflow_past = m.addStateVars(4, name=\"inflow\")\n",
    "    spill = m.addVars(4, obj=0.001, name=\"spill\")\n",
    "    hydro = m.addVars(4, ub=hydro_['UB'][-4:], name=\"hydro\")    \n",
    "    deficit = m.addVars(\n",
    "        [(i,j) for i in range(4) for j in range(4)], \n",
    "        ub = [\n",
    "            demand.iloc[t%12][i] * deficit_['DEPTH'][j]  \n",
    "            for i in range(4) for j in range(4)\n",
    "        ],\n",
    "        obj = [\n",
    "            deficit_['OBJ'][j] \n",
    "            for i in range(4) for j in range(4)\n",
    "        ], \n",
    "        name = \"deficit\")\n",
    "    thermal = [None] * 4\n",
    "    for i in range(4):\n",
    "        thermal[i] = m.addVars(\n",
    "            len(thermal_[i]), \n",
    "            ub=thermal_[i]['UB'], \n",
    "            lb=thermal_[i]['LB'], \n",
    "            obj=thermal_[i]['OBJ'], \n",
    "            name=\"thermal_{}\".format(i)\n",
    "        )\n",
    "    exchange = m.addVars(5,5, obj=exchange_cost.values.flatten(),\n",
    "        ub=exchange_ub.values.flatten(), name=\"exchange\")    \n",
    "    thermal_sum = m.addVars(4, name=\"thermal_sum\")\n",
    "    m.addConstrs(thermal_sum[i] == gurobipy.quicksum(thermal[i].values()) for i in range(4))\n",
    "    for i in range(4): \n",
    "        m.addConstr(\n",
    "            thermal_sum[i] \n",
    "            + gurobipy.quicksum(deficit[(i,j)] for j in range(4)) \n",
    "            + hydro[i] \n",
    "            - gurobipy.quicksum(exchange[(i,j)] for j in range(5))\n",
    "            + gurobipy.quicksum(exchange[(j,i)] for j in range(5)) \n",
    "            == demand.iloc[t%12][i]\n",
    "        )\n",
    "    m.addConstr(\n",
    "        gurobipy.quicksum(exchange[(j,4)] for j in range(5)) \n",
    "        - gurobipy.quicksum(exchange[(4,j)] for j in range(5)) \n",
    "        == 0\n",
    "    )\n",
    "    m.addConstrs(\n",
    "        stored_now[i] + spill[i] + hydro[i] - stored_past[i] == inflow_now[i]\n",
    "        for i in range(4)\n",
    "    )\n",
    "    if t == 0:\n",
    "        m.addConstrs(stored_past[i] == stored_initial[i] for i in range(4))\n",
    "        m.addConstrs(inflow_now[i] == inflow_initial[i] for i in range(4))\n",
    "    else:\n",
    "        TS = m.addConstrs(inflow_now[i] + inflow_past[i] == 0 for i in range(4))\n",
    "        m.add_continuous_uncertainty(\n",
    "            uncertainty=sampler(t-1),\n",
    "            locations=(\n",
    "                [(TS[i],inflow_past[i]) for i in range(4)]\n",
    "                + [TS[i] for i in range(4)]\n",
    "            ),\n",
    "        )\n",
    "HydroThermal.discretize(n_samples=100, random_state=888)"
   ]
  },
  {
   "cell_type": "code",
   "execution_count": 8,
   "metadata": {},
   "outputs": [
    {
     "name": "stderr",
     "output_type": "stream",
     "text": [
      "----------------------------------------------------------------\n",
      "                   SDDP Solver, Lingquan Ding                   \n",
      "----------------------------------------------------------------\n",
      "   Iteration               Bound               Value        Time\n",
      "----------------------------------------------------------------\n",
      "----------------------------------------------------------------------------\n",
      "             Evaluation for approximation model, Lingquan Ding              \n",
      "----------------------------------------------------------------------------\n",
      "   Iteration               Bound               Value        Time\n",
      "----------------------------------------------------------------------------\n",
      "           1       638871.229041       728366.154686    0.055152\n",
      "           2       741581.254078       743037.647926    0.036801\n",
      "           3       742392.546452       730667.277269    0.037021\n",
      "           4       742414.988632       728368.450124    0.032634\n",
      "           5       742476.181885       730011.866601    0.030160\n",
      "           6       742489.268042       728370.755146    0.037227\n",
      "           7       742490.975606       728957.376708    0.033189\n",
      "           8       742491.618866       728368.474266    0.032107\n",
      "           9       742495.539085       728889.644138    0.038531\n",
      "          10       753681.310293       731655.094655    0.041062\n",
      "          11       754091.937771       731686.555504    0.035354\n",
      "          12       754092.418535       733206.183314    0.039657\n",
      "          13       754092.426073       731683.344426    0.037296\n",
      "          14       754092.444805       731687.509072    0.035044\n",
      "          15       754092.779525       731681.526949    0.039596\n",
      "          16       754092.904706       734174.437492    0.046011\n",
      "          17       754092.910129       731686.372637    0.041770\n",
      "          18       759838.307308       748200.907720    0.061608\n",
      "          19       761722.841251       939368.719976    0.055782\n",
      "          20       761927.629375       885088.748097    0.068867\n",
      "          20       761927.629375       763270.110304   19.175983       0.18%\n",
      "----------------------------------------------------------------\n",
      "Time: 0.8348691463470459 seconds\n",
      "Algorithm stops since convergence tolerance:0.01 has reached\n",
      "----------------------------------------------------------------------------\n",
      "Time: 19.1759831905365 seconds\n"
     ]
    }
   ],
   "source": [
    "SDDP(HydroThermal).solve(\n",
    "    logFile=0,\n",
    "    max_iterations=100, \n",
    "    freq_evaluations=20, \n",
    "    n_simulations=-1, \n",
    "    tol=1e-2\n",
    ")"
   ]
  },
  {
   "cell_type": "code",
   "execution_count": 9,
   "metadata": {},
   "outputs": [
    {
     "data": {
      "text/plain": [
       "(759028.8290735832, 769780.5696462854)"
      ]
     },
     "execution_count": 9,
     "metadata": {},
     "output_type": "execute_result"
    }
   ],
   "source": [
    "result = EvaluationTrue(HydroThermal)\n",
    "result.run(n_simulations=1000, random_state=666)\n",
    "result.CI"
   ]
  }
 ],
 "metadata": {
  "kernelspec": {
   "display_name": "Python 3",
   "language": "python",
   "name": "python3"
  },
  "language_info": {
   "codemirror_mode": {
    "name": "ipython",
    "version": 3
   },
   "file_extension": ".py",
   "mimetype": "text/x-python",
   "name": "python",
   "nbconvert_exporter": "python",
   "pygments_lexer": "ipython3",
   "version": "3.7.1"
  }
 },
 "nbformat": 4,
 "nbformat_minor": 2
}
