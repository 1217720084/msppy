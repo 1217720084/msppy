{
 "cells": [
  {
   "cell_type": "markdown",
   "metadata": {},
   "source": [
    "In this tutorial, I illustrate the Markov chain approach to solve the hydro-thermal power system planning problem. Five pre-trained approximating MCs are in the data/MC directory, corresponding to the five models in my paper. For illustration purpose, I use the \\#5 MCs(the most coarse one) here and solve the problem for just 30 iterations and 1 step per iteration."
   ]
  },
  {
   "cell_type": "code",
   "execution_count": 2,
   "metadata": {
    "scrolled": true
   },
   "outputs": [
    {
     "name": "stdout",
     "output_type": "stream",
     "text": [
      "Academic license - for non-commercial use only\n",
      "Academic license - for non-commercial use only\n",
      "Academic license - for non-commercial use only\n",
      "Academic license - for non-commercial use only\n",
      "Academic license - for non-commercial use only\n",
      "Academic license - for non-commercial use only\n",
      "Academic license - for non-commercial use only\n",
      "Academic license - for non-commercial use only\n",
      "Academic license - for non-commercial use only\n",
      "Academic license - for non-commercial use only\n",
      "Academic license - for non-commercial use only\n",
      "Academic license - for non-commercial use only\n",
      "Academic license - for non-commercial use only\n",
      "Academic license - for non-commercial use only\n",
      "Academic license - for non-commercial use only\n",
      "Academic license - for non-commercial use only\n",
      "Academic license - for non-commercial use only\n",
      "Academic license - for non-commercial use only\n",
      "Academic license - for non-commercial use only\n",
      "Academic license - for non-commercial use only\n",
      "Academic license - for non-commercial use only\n",
      "Academic license - for non-commercial use only\n",
      "Academic license - for non-commercial use only\n",
      "Academic license - for non-commercial use only\n",
      "Academic license - for non-commercial use only\n",
      "Academic license - for non-commercial use only\n",
      "Academic license - for non-commercial use only\n",
      "Academic license - for non-commercial use only\n",
      "Academic license - for non-commercial use only\n",
      "Academic license - for non-commercial use only\n",
      "Academic license - for non-commercial use only\n",
      "Academic license - for non-commercial use only\n",
      "Academic license - for non-commercial use only\n",
      "Academic license - for non-commercial use only\n",
      "Academic license - for non-commercial use only\n",
      "Academic license - for non-commercial use only\n",
      "Academic license - for non-commercial use only\n",
      "Academic license - for non-commercial use only\n",
      "Academic license - for non-commercial use only\n",
      "Academic license - for non-commercial use only\n",
      "Academic license - for non-commercial use only\n",
      "Academic license - for non-commercial use only\n",
      "Academic license - for non-commercial use only\n",
      "Academic license - for non-commercial use only\n",
      "Academic license - for non-commercial use only\n",
      "Academic license - for non-commercial use only\n",
      "Academic license - for non-commercial use only\n",
      "Academic license - for non-commercial use only\n",
      "Academic license - for non-commercial use only\n",
      "Academic license - for non-commercial use only\n",
      "Academic license - for non-commercial use only\n",
      "Academic license - for non-commercial use only\n",
      "Academic license - for non-commercial use only\n",
      "Academic license - for non-commercial use only\n",
      "Academic license - for non-commercial use only\n",
      "Academic license - for non-commercial use only\n",
      "Academic license - for non-commercial use only\n",
      "Academic license - for non-commercial use only\n",
      "Academic license - for non-commercial use only\n",
      "Academic license - for non-commercial use only\n",
      "Academic license - for non-commercial use only\n",
      "Academic license - for non-commercial use only\n",
      "Academic license - for non-commercial use only\n",
      "Academic license - for non-commercial use only\n",
      "Academic license - for non-commercial use only\n",
      "Academic license - for non-commercial use only\n",
      "Academic license - for non-commercial use only\n",
      "Academic license - for non-commercial use only\n",
      "Academic license - for non-commercial use only\n",
      "Academic license - for non-commercial use only\n",
      "Academic license - for non-commercial use only\n",
      "Academic license - for non-commercial use only\n",
      "Academic license - for non-commercial use only\n",
      "Academic license - for non-commercial use only\n",
      "Academic license - for non-commercial use only\n",
      "Academic license - for non-commercial use only\n",
      "Academic license - for non-commercial use only\n",
      "Academic license - for non-commercial use only\n",
      "Academic license - for non-commercial use only\n",
      "Academic license - for non-commercial use only\n",
      "Academic license - for non-commercial use only\n",
      "Academic license - for non-commercial use only\n",
      "Academic license - for non-commercial use only\n",
      "Academic license - for non-commercial use only\n",
      "Academic license - for non-commercial use only\n",
      "Academic license - for non-commercial use only\n",
      "Academic license - for non-commercial use only\n",
      "Academic license - for non-commercial use only\n",
      "Academic license - for non-commercial use only\n",
      "Academic license - for non-commercial use only\n",
      "Academic license - for non-commercial use only\n",
      "Academic license - for non-commercial use only\n",
      "Academic license - for non-commercial use only\n",
      "Academic license - for non-commercial use only\n",
      "Academic license - for non-commercial use only\n",
      "Academic license - for non-commercial use only\n",
      "Academic license - for non-commercial use only\n",
      "Academic license - for non-commercial use only\n",
      "Academic license - for non-commercial use only\n",
      "Academic license - for non-commercial use only\n",
      "Academic license - for non-commercial use only\n",
      "Academic license - for non-commercial use only\n",
      "Academic license - for non-commercial use only\n",
      "Academic license - for non-commercial use only\n",
      "Academic license - for non-commercial use only\n",
      "Academic license - for non-commercial use only\n",
      "Academic license - for non-commercial use only\n",
      "Academic license - for non-commercial use only\n",
      "Academic license - for non-commercial use only\n",
      "Academic license - for non-commercial use only\n",
      "Academic license - for non-commercial use only\n",
      "Academic license - for non-commercial use only\n",
      "Academic license - for non-commercial use only\n",
      "Academic license - for non-commercial use only\n",
      "Academic license - for non-commercial use only\n",
      "Academic license - for non-commercial use only\n",
      "Academic license - for non-commercial use only\n",
      "Academic license - for non-commercial use only\n",
      "Academic license - for non-commercial use only\n",
      "Academic license - for non-commercial use only\n"
     ]
    },
    {
     "name": "stderr",
     "output_type": "stream",
     "text": [
      "----------------------------------------------------------------\n",
      "                   SDDP Solver, Lingquan Ding                   \n",
      "----------------------------------------------------------------\n",
      "   Iteration               Bound               Value        Time\n",
      "----------------------------------------------------------------\n",
      "           1      1582396.667039    843623373.178456    5.606532\n",
      "           2      2302827.400358    605923420.977798    3.176518\n",
      "           3      3281324.066001    554698969.322461    2.886343\n",
      "           4      5326622.348240    621233949.272867    2.855397\n",
      "           5      5523420.215889    197012267.238842    2.533289\n",
      "           6     10123176.788487    204788961.806366    2.840785\n",
      "           7     37233395.518599    447127213.832364    2.578339\n",
      "           8     39946569.854153    304163703.565022    2.684920\n",
      "           9     43508146.416478    337802802.136957    2.759030\n",
      "          10     46351793.683639    168074955.717974    2.730032\n",
      "          11     49112057.563023    482403157.949360    2.619141\n",
      "          12     50311401.981170    357510687.766238    3.195859\n",
      "          13     50343829.866173    477140724.054857    5.510866\n",
      "          14     50466584.361730    394161478.633554    3.887337\n",
      "          15     87378232.786401    171602450.651127    2.949054\n",
      "          16     87506418.135719    405919540.562039    2.290672\n",
      "          17     87837218.236708    428381595.482735    2.263840\n",
      "          18     87851235.352036    310415758.519607    2.258799\n",
      "          19     87910127.522883    290506687.703343    2.397583\n",
      "          20     88087459.532406    454733405.614197    2.325243\n",
      "          21     92306525.415537    545308238.461058    2.399931\n",
      "          22     97562944.817729    100475646.534699    2.315984\n",
      "          23     97697801.401389    311230437.131611    2.563126\n",
      "          24     98144934.088732    140908215.343730    2.504730\n",
      "          25     99675691.960607    171747963.669983    3.104867\n",
      "          26    100873741.385690    224840016.570567    3.134986\n",
      "          27    100896333.553857    209617840.987052    2.589835\n",
      "          28    107905154.026687    219288666.035316    2.662016\n",
      "          29    108472219.906965    351279858.802429    2.621322\n",
      "          30    108562330.952243    197096838.952858    2.591275\n",
      "----------------------------------------------------------------\n",
      "Time: 86.83764958381653 seconds\n",
      "Algorithm stops since iteration:30 has reached\n"
     ]
    }
   ],
   "source": [
    "import pandas\n",
    "import numpy\n",
    "import gurobipy\n",
    "from msppy.msp import MSLP\n",
    "from msppy.solver import SDDP\n",
    "from msppy.evaluation import Evaluation,EvaluationTrue\n",
    "\n",
    "gamma = numpy.array(pandas.read_csv(\n",
    "    \"./data/gamma.csv\",\n",
    "    names=[0,1,2,3],\n",
    "    index_col=0,\n",
    "    skiprows=1,\n",
    "))\n",
    "sigma = [\n",
    "    numpy.array(pandas.read_csv(\n",
    "        \"./data/sigma_{}.csv\".format(i),\n",
    "        names=[0,1,2,3],\n",
    "        index_col=0,\n",
    "        skiprows=1,\n",
    "    )) for i in range(12)\n",
    "]\n",
    "exp_mu = numpy.array(pandas.read_csv(\n",
    "    \"./data/exp_mu.csv\",\n",
    "    names=[0,1,2,3],\n",
    "    index_col=0,\n",
    "    skiprows=1,\n",
    "))\n",
    "hydro_ = pandas.read_csv(\"./data/hydro.csv\", index_col=0)\n",
    "demand = pandas.read_csv(\"./data/demand.csv\", index_col=0)\n",
    "deficit_ = pandas.read_csv(\"./data/deficit.csv\", index_col=0)\n",
    "exchange_ub = pandas.read_csv(\"./data/exchange.csv\", index_col=0)\n",
    "exchange_cost = pandas.read_csv(\"./data/exchange_cost.csv\", index_col=0)\n",
    "thermal_ = [pandas.read_csv(\"./data/thermal_{}.csv\".format(i), index_col=0) for i in range(4)]\n",
    "hist = [pandas.read_csv(\"./data/hist_{}.csv\".format(i), index_col=0, sep=';') for i in range(4)]\n",
    "stored_initial = numpy.array(hydro_['INITIAL'][:4])\n",
    "inflow_initial = numpy.array(hydro_['INITIAL'][4:8])\n",
    "Markov_states = [pandas.read_csv(\"./data/MC/5/Markov_states_{}.csv\".format(i), index_col=0).values for i in range(120)]\n",
    "transition_matrix = [pandas.read_csv(\"./data/MC/5/transition_matrix_{}.csv\".format(i), index_col=0).values for i in range(120)]\n",
    "\n",
    "T = 120\n",
    "def generator(random_state,size):\n",
    "    inflow = numpy.empty([size,T,4])\n",
    "    inflow[:,0,:] = inflow_initial[numpy.newaxis:,]\n",
    "    for t in range(T-1):\n",
    "        noise = numpy.exp(random_state.multivariate_normal(mean=[0]*4, cov=sigma[t%12],size=size))\n",
    "        inflow[:,t+1,:] = noise * (\n",
    "            (1-gamma[t%12]) * exp_mu[t%12]\n",
    "            + gamma[t%12] * exp_mu[t%12]/exp_mu[(t-1)%12] * inflow[:,t,:]\n",
    "        )\n",
    "    return inflow\n",
    "\n",
    "HydroThermal = MSLP(T=T, bound=0, discount=0.9906)\n",
    "HydroThermal.add_Markovian_uncertainty(generator)\n",
    "for t in range(T):\n",
    "    m = HydroThermal[t]\n",
    "    stored_now, stored_past = m.addStateVars(4, ub=hydro_['UB'][:4], name=\"stored\")\n",
    "    spill = m.addVars(4, obj=0.001, name=\"spill\")\n",
    "    hydro = m.addVars(4, ub=hydro_['UB'][-4:], name=\"hydro\")\n",
    "    deficit = m.addVars(\n",
    "        [(i,j) for i in range(4) for j in range(4)],\n",
    "        ub = [\n",
    "            demand.iloc[t%12][i] * deficit_['DEPTH'][j]\n",
    "            for i in range(4) for j in range(4)\n",
    "        ],\n",
    "        obj = [\n",
    "            deficit_['OBJ'][j]\n",
    "            for i in range(4) for j in range(4)\n",
    "        ],\n",
    "        name = \"deficit\")\n",
    "    thermal = [None] * 4\n",
    "    for i in range(4):\n",
    "        thermal[i] = m.addVars(\n",
    "            len(thermal_[i]),\n",
    "            ub=thermal_[i]['UB'],\n",
    "            lb=thermal_[i]['LB'],\n",
    "            obj=thermal_[i]['OBJ'],\n",
    "            name=\"thermal_{}\".format(i)\n",
    "        )\n",
    "    exchange = m.addVars(5,5, obj=exchange_cost.values.flatten(),\n",
    "        ub=exchange_ub.values.flatten(), name=\"exchange\")\n",
    "    thermal_sum = m.addVars(4, name=\"thermal_sum\")\n",
    "    m.addConstrs(\n",
    "        thermal_sum[i] == gurobipy.quicksum(thermal[i].values()) for i in range(4)\n",
    "    )\n",
    "    for i in range(4):\n",
    "        m.addConstr(\n",
    "            thermal_sum[i]\n",
    "            + gurobipy.quicksum(deficit[(i,j)] for j in range(4))\n",
    "            + hydro[i]\n",
    "            - gurobipy.quicksum(exchange[(i,j)] for j in range(5))\n",
    "            + gurobipy.quicksum(exchange[(j,i)] for j in range(5))\n",
    "            == demand.iloc[t%12][i]\n",
    "        )\n",
    "    m.addConstr(\n",
    "        gurobipy.quicksum(exchange[(j,4)] for j in range(5))\n",
    "        - gurobipy.quicksum(exchange[(4,j)] for j in range(5))\n",
    "        == 0\n",
    "    )\n",
    "    m.addConstrs(\n",
    "        (stored_now[i] + spill[i] + hydro[i] - stored_past[i] == 0 for i in range(4)),\n",
    "        uncertainty_dependent=[0,1,2,3],\n",
    "    )\n",
    "    if t == 0:\n",
    "        m.addConstrs(stored_past[i] == stored_initial[i] for i in range(4))\n",
    "\n",
    "HydroThermal.discretize(\n",
    "    method='input',\n",
    "    Markov_states=Markov_states,\n",
    "    transition_matrix=transition_matrix,\n",
    ")\n",
    "HT_sddp = SDDP(HydroThermal)\n",
    "HT_sddp.solve(\n",
    "    logFile=0,\n",
    "    n_processes=1,\n",
    "    n_steps=1,\n",
    "    max_iterations=30,\n",
    ")"
   ]
  },
  {
   "cell_type": "code",
   "execution_count": 4,
   "metadata": {
    "scrolled": true
   },
   "outputs": [
    {
     "data": {
      "image/png": "[encoded data removed]",
      "text/plain": [
       "<Figure size 432x288 with 1 Axes>"
      ]
     },
     "execution_count": 4,
     "metadata": {},
     "output_type": "execute_result"
    },
    {
     "data": {
      "image/png": "[encoded data removed]",
      "text/plain": [
       "<Figure size 432x288 with 1 Axes>"
      ]
     },
     "metadata": {
      "needs_background": "light"
     },
     "output_type": "display_data"
    }
   ],
   "source": [
    "%matplotlib inline\n",
    "HT_sddp.plot_bounds(window=1,smooth=1)"
   ]
  },
  {
   "cell_type": "code",
   "execution_count": 7,
   "metadata": {},
   "outputs": [],
   "source": [
    "result = Evaluation(HydroThermal)\n",
    "result.run(random_state=666, n_simulations=100)\n",
    "resultTrue = EvaluationTrue(HydroThermal)\n",
    "resultTrue.run(random_state=666, n_simulations=100)"
   ]
  },
  {
   "cell_type": "code",
   "execution_count": 8,
   "metadata": {},
   "outputs": [
    {
     "data": {
      "text/plain": [
       "(1.5448162340284377, (231162333.88618, 276271182.21123624))"
      ]
     },
     "execution_count": 8,
     "metadata": {},
     "output_type": "execute_result"
    }
   ],
   "source": [
    "result.gap, result.CI"
   ]
  },
  {
   "cell_type": "code",
   "execution_count": 9,
   "metadata": {},
   "outputs": [
    {
     "data": {
      "text/plain": [
       "(250779329.1288679, 313507638.5282916)"
      ]
     },
     "execution_count": 9,
     "metadata": {},
     "output_type": "execute_result"
    }
   ],
   "source": [
    "resultTrue.CI"
   ]
  }
 ],
 "metadata": {
  "kernelspec": {
   "display_name": "Python 3",
   "language": "python",
   "name": "python3"
  },
  "language_info": {
   "codemirror_mode": {
    "name": "ipython",
    "version": 3
   },
   "file_extension": ".py",
   "mimetype": "text/x-python",
   "name": "python",
   "nbconvert_exporter": "python",
   "pygments_lexer": "ipython3",
   "version": "3.7.1"
  }
 },
 "nbformat": 4,
 "nbformat_minor": 2
}
