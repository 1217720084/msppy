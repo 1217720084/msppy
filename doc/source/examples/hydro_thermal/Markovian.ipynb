{
 "cells": [
  {
   "cell_type": "markdown",
   "metadata": {},
   "source": [
    "Solve the hydro-thermal power system planning problem: Markovian approach\n",
    "===========================================\n",
    "\n",
    "The Markov chain approach discretizes the Markovian data process by Markov chain. Five pre-trained approximating MCs are in the data/MC directory, corresponding to the five models in my paper. For illustration purpose, I use one of them here and solve the problem for just 30 iterations and 1 step per iteration."
   ]
  },
  {
   "cell_type": "code",
   "execution_count": 1,
   "metadata": {
    "scrolled": true
   },
   "outputs": [
    {
     "name": "stdout",
     "output_type": "stream",
     "text": [
      "Academic license - for non-commercial use only\n",
      "Academic license - for non-commercial use only\n",
      "Academic license - for non-commercial use only\n",
      "Academic license - for non-commercial use only\n",
      "Academic license - for non-commercial use only\n",
      "Academic license - for non-commercial use only\n",
      "Academic license - for non-commercial use only\n",
      "Academic license - for non-commercial use only\n",
      "Academic license - for non-commercial use only\n",
      "Academic license - for non-commercial use only\n",
      "Academic license - for non-commercial use only\n",
      "Academic license - for non-commercial use only\n",
      "Academic license - for non-commercial use only\n",
      "Academic license - for non-commercial use only\n",
      "Academic license - for non-commercial use only\n",
      "Academic license - for non-commercial use only\n",
      "Academic license - for non-commercial use only\n",
      "Academic license - for non-commercial use only\n",
      "Academic license - for non-commercial use only\n",
      "Academic license - for non-commercial use only\n",
      "Academic license - for non-commercial use only\n",
      "Academic license - for non-commercial use only\n",
      "Academic license - for non-commercial use only\n",
      "Academic license - for non-commercial use only\n",
      "Academic license - for non-commercial use only\n",
      "Academic license - for non-commercial use only\n",
      "Academic license - for non-commercial use only\n",
      "Academic license - for non-commercial use only\n",
      "Academic license - for non-commercial use only\n",
      "Academic license - for non-commercial use only\n",
      "Academic license - for non-commercial use only\n",
      "Academic license - for non-commercial use only\n",
      "Academic license - for non-commercial use only\n",
      "Academic license - for non-commercial use only\n",
      "Academic license - for non-commercial use only\n",
      "Academic license - for non-commercial use only\n",
      "Academic license - for non-commercial use only\n",
      "Academic license - for non-commercial use only\n",
      "Academic license - for non-commercial use only\n",
      "Academic license - for non-commercial use only\n",
      "Academic license - for non-commercial use only\n",
      "Academic license - for non-commercial use only\n",
      "Academic license - for non-commercial use only\n",
      "Academic license - for non-commercial use only\n",
      "Academic license - for non-commercial use only\n",
      "Academic license - for non-commercial use only\n",
      "Academic license - for non-commercial use only\n",
      "Academic license - for non-commercial use only\n",
      "Academic license - for non-commercial use only\n",
      "Academic license - for non-commercial use only\n",
      "Academic license - for non-commercial use only\n",
      "Academic license - for non-commercial use only\n",
      "Academic license - for non-commercial use only\n",
      "Academic license - for non-commercial use only\n",
      "Academic license - for non-commercial use only\n",
      "Academic license - for non-commercial use only\n",
      "Academic license - for non-commercial use only\n",
      "Academic license - for non-commercial use only\n",
      "Academic license - for non-commercial use only\n",
      "Academic license - for non-commercial use only\n",
      "Academic license - for non-commercial use only\n",
      "Academic license - for non-commercial use only\n",
      "Academic license - for non-commercial use only\n",
      "Academic license - for non-commercial use only\n",
      "Academic license - for non-commercial use only\n",
      "Academic license - for non-commercial use only\n",
      "Academic license - for non-commercial use only\n",
      "Academic license - for non-commercial use only\n",
      "Academic license - for non-commercial use only\n",
      "Academic license - for non-commercial use only\n",
      "Academic license - for non-commercial use only\n",
      "Academic license - for non-commercial use only\n",
      "Academic license - for non-commercial use only\n",
      "Academic license - for non-commercial use only\n",
      "Academic license - for non-commercial use only\n",
      "Academic license - for non-commercial use only\n",
      "Academic license - for non-commercial use only\n",
      "Academic license - for non-commercial use only\n",
      "Academic license - for non-commercial use only\n",
      "Academic license - for non-commercial use only\n",
      "Academic license - for non-commercial use only\n",
      "Academic license - for non-commercial use only\n",
      "Academic license - for non-commercial use only\n",
      "Academic license - for non-commercial use only\n",
      "Academic license - for non-commercial use only\n",
      "Academic license - for non-commercial use only\n",
      "Academic license - for non-commercial use only\n",
      "Academic license - for non-commercial use only\n",
      "Academic license - for non-commercial use only\n",
      "Academic license - for non-commercial use only\n",
      "Academic license - for non-commercial use only\n",
      "Academic license - for non-commercial use only\n",
      "Academic license - for non-commercial use only\n",
      "Academic license - for non-commercial use only\n",
      "Academic license - for non-commercial use only\n",
      "Academic license - for non-commercial use only\n",
      "Academic license - for non-commercial use only\n",
      "Academic license - for non-commercial use only\n",
      "Academic license - for non-commercial use only\n",
      "Academic license - for non-commercial use only\n",
      "Academic license - for non-commercial use only\n",
      "Academic license - for non-commercial use only\n",
      "Academic license - for non-commercial use only\n",
      "Academic license - for non-commercial use only\n",
      "Academic license - for non-commercial use only\n",
      "Academic license - for non-commercial use only\n",
      "Academic license - for non-commercial use only\n",
      "Academic license - for non-commercial use only\n",
      "Academic license - for non-commercial use only\n",
      "Academic license - for non-commercial use only\n",
      "Academic license - for non-commercial use only\n",
      "Academic license - for non-commercial use only\n",
      "Academic license - for non-commercial use only\n",
      "Academic license - for non-commercial use only\n",
      "Academic license - for non-commercial use only\n",
      "Academic license - for non-commercial use only\n",
      "Academic license - for non-commercial use only\n",
      "Academic license - for non-commercial use only\n",
      "Academic license - for non-commercial use only\n",
      "Academic license - for non-commercial use only\n"
     ]
    }
   ],
   "source": [
    "import pandas\n",
    "import numpy\n",
    "import gurobipy\n",
    "from msppy.msp import MSLP\n",
    "from msppy.solver import SDDP\n",
    "from msppy.evaluation import Evaluation,EvaluationTrue\n",
    "import seaborn\n",
    "seaborn.set_style('darkgrid')\n",
    "gamma = numpy.array(pandas.read_csv(\n",
    "    \"./data/gamma.csv\",\n",
    "    names=[0,1,2,3],\n",
    "    index_col=0,\n",
    "    skiprows=1,\n",
    "))\n",
    "sigma = [\n",
    "    numpy.array(pandas.read_csv(\n",
    "        \"./data/sigma_{}.csv\".format(i),\n",
    "        names=[0,1,2,3],\n",
    "        index_col=0,\n",
    "        skiprows=1,\n",
    "    )) for i in range(12)\n",
    "]\n",
    "exp_mu = numpy.array(pandas.read_csv(\n",
    "    \"./data/exp_mu.csv\",\n",
    "    names=[0,1,2,3],\n",
    "    index_col=0,\n",
    "    skiprows=1,\n",
    "))\n",
    "hydro_ = pandas.read_csv(\"./data/hydro.csv\", index_col=0)\n",
    "demand = pandas.read_csv(\"./data/demand.csv\", index_col=0)\n",
    "deficit_ = pandas.read_csv(\"./data/deficit.csv\", index_col=0)\n",
    "exchange_ub = pandas.read_csv(\"./data/exchange.csv\", index_col=0)\n",
    "exchange_cost = pandas.read_csv(\"./data/exchange_cost.csv\", index_col=0)\n",
    "thermal_ = [pandas.read_csv(\"./data/thermal_{}.csv\".format(i), index_col=0) for i in range(4)]\n",
    "hist = [pandas.read_csv(\"./data/hist_{}.csv\".format(i), index_col=0, sep=';') for i in range(4)]\n",
    "stored_initial = numpy.array(hydro_['INITIAL'][:4])\n",
    "inflow_initial = numpy.array(hydro_['INITIAL'][4:8])\n",
    "Markov_states = [pandas.read_csv(\"./data/SA50/Markov_states_{}.csv\".format(i), index_col=0).values for i in range(120)]\n",
    "transition_matrix = [pandas.read_csv(\"./data/SA50/transition_matrix_{}.csv\".format(i), index_col=0).values for i in range(120)]\n",
    "\n",
    "T = 120\n",
    "def generator(random_state,size):\n",
    "    inflow = numpy.empty([size,T,4])\n",
    "    inflow[:,0,:] = inflow_initial[numpy.newaxis:,]\n",
    "    for t in range(1,T):\n",
    "        noise = numpy.exp(random_state.multivariate_normal(mean=[0]*4, cov=sigma[t%12],size=size))\n",
    "        inflow[:,t,:] = noise * (\n",
    "            (1-gamma[t%12]) * exp_mu[t%12]\n",
    "            + gamma[t%12] * exp_mu[t%12]/exp_mu[(t-1)%12] * inflow[:,t-1,:]\n",
    "        )\n",
    "    return inflow\n",
    "\n",
    "HydroThermal = MSLP(T=T, bound=0, discount=0.9906)\n",
    "HydroThermal.add_Markovian_uncertainty(generator)\n",
    "for t in range(T):\n",
    "    m = HydroThermal[t]\n",
    "    stored_now, stored_past = m.addStateVars(4, ub=hydro_['UB'][:4], name=\"stored\")\n",
    "    spill = m.addVars(4, obj=0.001, name=\"spill\")\n",
    "    hydro = m.addVars(4, ub=hydro_['UB'][-4:], name=\"hydro\")\n",
    "    deficit = m.addVars(\n",
    "        [(i,j) for i in range(4) for j in range(4)],\n",
    "        ub = [\n",
    "            demand.iloc[t%12][i] * deficit_['DEPTH'][j]\n",
    "            for i in range(4) for j in range(4)\n",
    "        ],\n",
    "        obj = [\n",
    "            deficit_['OBJ'][j]\n",
    "            for i in range(4) for j in range(4)\n",
    "        ],\n",
    "        name = \"deficit\")\n",
    "    thermal = [None] * 4\n",
    "    for i in range(4):\n",
    "        thermal[i] = m.addVars(\n",
    "            len(thermal_[i]),\n",
    "            ub=thermal_[i]['UB'],\n",
    "            lb=thermal_[i]['LB'],\n",
    "            obj=thermal_[i]['OBJ'],\n",
    "            name=\"thermal_{}\".format(i)\n",
    "        )\n",
    "    exchange = m.addVars(5,5, obj=exchange_cost.values.flatten(),\n",
    "        ub=exchange_ub.values.flatten(), name=\"exchange\")\n",
    "    thermal_sum = m.addVars(4, name=\"thermal_sum\")\n",
    "    m.addConstrs(\n",
    "        thermal_sum[i] == gurobipy.quicksum(thermal[i].values()) for i in range(4)\n",
    "    )\n",
    "    for i in range(4):\n",
    "        m.addConstr(\n",
    "            thermal_sum[i]\n",
    "            + gurobipy.quicksum(deficit[(i,j)] for j in range(4))\n",
    "            + hydro[i]\n",
    "            - gurobipy.quicksum(exchange[(i,j)] for j in range(5))\n",
    "            + gurobipy.quicksum(exchange[(j,i)] for j in range(5))\n",
    "            == demand.iloc[t%12][i]\n",
    "        )\n",
    "    m.addConstr(\n",
    "        gurobipy.quicksum(exchange[(j,4)] for j in range(5))\n",
    "        - gurobipy.quicksum(exchange[(4,j)] for j in range(5))\n",
    "        == 0\n",
    "    )\n",
    "    m.addConstrs(\n",
    "        (stored_now[i] + spill[i] + hydro[i] - stored_past[i] == 0 for i in range(4)),\n",
    "        uncertainty_dependent=[0,1,2,3],\n",
    "    )\n",
    "    if t == 0:\n",
    "        m.addConstrs(stored_past[i] == stored_initial[i] for i in range(4))\n",
    "\n",
    "HydroThermal.discretize(\n",
    "    method='input',\n",
    "    Markov_states=Markov_states,\n",
    "    transition_matrix=transition_matrix,\n",
    ")\n",
    "HT_sddp = SDDP(HydroThermal)\n",
    "HT_sddp.solve(\n",
    "    logToConsole=0,\n",
    "    max_iterations=30,\n",
    ")"
   ]
  },
  {
   "cell_type": "code",
   "execution_count": 2,
   "metadata": {
    "scrolled": true
   },
   "outputs": [
    {
     "name": "stdout",
     "output_type": "stream",
     "text": [
      "Academic license - for non-commercial use only\n"
     ]
    },
    {
     "data": {
      "image/png": "[encoded data removed]",
      "text/plain": [
       "<Figure size 432x288 with 1 Axes>"
      ]
     },
     "metadata": {
      "needs_background": "light"
     },
     "output_type": "display_data"
    }
   ],
   "source": [
    "%matplotlib inline\n",
    "HT_sddp.plot_bounds(window=1,smooth=1);"
   ]
  },
  {
   "cell_type": "code",
   "execution_count": 3,
   "metadata": {},
   "outputs": [],
   "source": [
    "result = Evaluation(HydroThermal)\n",
    "result.run(n_simulations=100)\n",
    "resultTrue = EvaluationTrue(HydroThermal)\n",
    "resultTrue.run(n_simulations=100)"
   ]
  },
  {
   "cell_type": "code",
   "execution_count": 4,
   "metadata": {},
   "outputs": [
    {
     "data": {
      "text/plain": [
       "(1.3298994603713432, (243892863.9429615, 289256075.65033406))"
      ]
     },
     "execution_count": 4,
     "metadata": {},
     "output_type": "execute_result"
    }
   ],
   "source": [
    "result.gap, result.CI"
   ]
  },
  {
   "cell_type": "code",
   "execution_count": 5,
   "metadata": {},
   "outputs": [
    {
     "data": {
      "text/plain": [
       "(333835341.9056767, 411568456.12376463)"
      ]
     },
     "execution_count": 5,
     "metadata": {},
     "output_type": "execute_result"
    }
   ],
   "source": [
    "resultTrue.CI"
   ]
  }
 ],
 "metadata": {
  "kernelspec": {
   "display_name": "Python 3",
   "language": "python",
   "name": "python3"
  },
  "language_info": {
   "codemirror_mode": {
    "name": "ipython",
    "version": 3
   },
   "file_extension": ".py",
   "mimetype": "text/x-python",
   "name": "python",
   "nbconvert_exporter": "python",
   "pygments_lexer": "ipython3",
   "version": "3.7.1"
  }
 },
 "nbformat": 4,
 "nbformat_minor": 2
}
