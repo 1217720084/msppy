{
 "cells": [
  {
   "cell_type": "markdown",
   "metadata": {},
   "source": [
    "Solve the hydro-thermal power system planning problem: periodical SDDP\n",
    "===========================================\n",
    "\n",
    "The hydro-thermal power system planning problem is periodical with a period of 12. In this tutorial, we use periodical SDDP to solve the problem for infinite horizon.     \n",
    "The syntax of periodical SDDP is very similar to the classical SDDP. We will only highlight the differences. More details can be found at http://www.optimization-online.org/DB_FILE/2019/09/7367.pdf"
   ]
  },
  {
   "cell_type": "code",
   "execution_count": 1,
   "metadata": {},
   "outputs": [],
   "source": [
    "import pandas\n",
    "import numpy\n",
    "import gurobipy\n",
    "from msppy.msp import MSLP\n",
    "from msppy.solver import SDDP_infinity\n",
    "from msppy.evaluation import EvaluationTrue, Evaluation\n",
    "import sys\n",
    "\n",
    "gamma = numpy.array(pandas.read_csv(\n",
    "    \"./data/gamma.csv\",\n",
    "    names=[0,1,2,3],\n",
    "    index_col=0,\n",
    "    skiprows=1,\n",
    "))\n",
    "sigma = [\n",
    "    numpy.array(pandas.read_csv(\n",
    "        \"./data/sigma_{}.csv\".format(i),\n",
    "        names=[0,1,2,3],\n",
    "        index_col=0,\n",
    "        skiprows=1,\n",
    "    )) for i in range(12)\n",
    "]\n",
    "exp_mu = numpy.array(pandas.read_csv(\n",
    "    \"./data/exp_mu.csv\",\n",
    "    names=[0,1,2,3],\n",
    "    index_col=0,\n",
    "    skiprows=1,\n",
    "))\n",
    "hydro_ = pandas.read_csv(\"./data/hydro.csv\", index_col=0)\n",
    "demand = pandas.read_csv(\"./data/demand.csv\", index_col=0)\n",
    "deficit_ = pandas.read_csv(\"./data/deficit.csv\", index_col=0)\n",
    "exchange_ub = pandas.read_csv(\"./data/exchange.csv\", index_col=0)\n",
    "exchange_cost = pandas.read_csv(\"./data/exchange_cost.csv\", index_col=0)\n",
    "thermal_ = [pandas.read_csv(\"./data/thermal_{}.csv\".format(i),\n",
    "    index_col=0) for i in range(4)]\n",
    "stored_initial = hydro_['INITIAL'][:4]\n",
    "inflow_initial = hydro_['INITIAL'][4:8]\n",
    "\n",
    "def sampler(t):\n",
    "    def inner(random_state):\n",
    "        noise = numpy.exp(\n",
    "            random_state.multivariate_normal(mean=[0]*4, cov=sigma[t%12]))\n",
    "        coef = [None]*4\n",
    "        rhs = [None]*4\n",
    "        for i in range(4):\n",
    "            coef[i] = -noise[i]*gamma[t%12][i]*exp_mu[t%12][i]/exp_mu[(t-1)%12][i]\n",
    "            rhs[i] = noise[i]*(1-gamma[t%12][i])*exp_mu[t%12][i]\n",
    "        return (coef+rhs)\n",
    "    return inner"
   ]
  },
  {
   "cell_type": "markdown",
   "metadata": {},
   "source": [
    "Build the true problem and make discretization\n",
    "--------------------------"
   ]
  },
  {
   "cell_type": "code",
   "execution_count": 2,
   "metadata": {},
   "outputs": [
    {
     "name": "stdout",
     "output_type": "stream",
     "text": [
      "Academic license - for non-commercial use only\n",
      "Academic license - for non-commercial use only\n",
      "Academic license - for non-commercial use only\n",
      "Academic license - for non-commercial use only\n",
      "Academic license - for non-commercial use only\n",
      "Academic license - for non-commercial use only\n",
      "Academic license - for non-commercial use only\n",
      "Academic license - for non-commercial use only\n",
      "Academic license - for non-commercial use only\n",
      "Academic license - for non-commercial use only\n",
      "Academic license - for non-commercial use only\n",
      "Academic license - for non-commercial use only\n",
      "Academic license - for non-commercial use only\n"
     ]
    }
   ],
   "source": [
    "HydroThermal = MSLP(T=13, bound=0, discount=0.9906)"
   ]
  },
  {
   "cell_type": "markdown",
   "metadata": {},
   "source": [
    "Periodical SDDP algorithm solves the problem for a single period plus an initial stage. In this case, the number of stages to consider is 13, set by $T=13$."
   ]
  },
  {
   "cell_type": "code",
   "execution_count": 3,
   "metadata": {},
   "outputs": [],
   "source": [
    "for t in range(13):\n",
    "    m = HydroThermal[t]\n",
    "    stored_now,stored_past = m.addStateVars(4, ub=hydro_['UB'][:4], name=\"stored\")\n",
    "    inflow_now,inflow_past = m.addStateVars(4, name=\"inflow\")\n",
    "    spill = m.addVars(4, obj=0.001, name=\"spill\")\n",
    "    hydro = m.addVars(4, ub=hydro_['UB'][-4:], name=\"hydro\")\n",
    "    deficit = m.addVars(\n",
    "        [(i,j) for i in range(4) for j in range(4)],\n",
    "        ub = [\n",
    "            demand.iloc[t%12][i] * deficit_['DEPTH'][j]\n",
    "            for i in range(4) for j in range(4)\n",
    "        ],\n",
    "        obj = [\n",
    "            deficit_['OBJ'][j]\n",
    "            for i in range(4) for j in range(4)\n",
    "        ],\n",
    "        name = \"deficit\")\n",
    "    thermal = [None] * 4\n",
    "    for i in range(4):\n",
    "        thermal[i] = m.addVars(\n",
    "            len(thermal_[i]),\n",
    "            ub=thermal_[i]['UB'],\n",
    "            lb=thermal_[i]['LB'],\n",
    "            obj=thermal_[i]['OBJ'],\n",
    "            name=\"thermal_{}\".format(i)\n",
    "        )\n",
    "    exchange = m.addVars(5,5, obj=exchange_cost.values.flatten(),\n",
    "        ub=exchange_ub.values.flatten(), name=\"exchange\")\n",
    "    thermal_sum = m.addVars(4, name=\"thermal_sum\")\n",
    "    m.addConstrs(thermal_sum[i] ==\n",
    "        gurobipy.quicksum(thermal[i].values()) for i in range(4))\n",
    "    for i in range(4):\n",
    "        m.addConstr(\n",
    "            thermal_sum[i]\n",
    "            + gurobipy.quicksum(deficit[(i,j)] for j in range(4))\n",
    "            + hydro[i]\n",
    "            - gurobipy.quicksum(exchange[(i,j)] for j in range(5))\n",
    "            + gurobipy.quicksum(exchange[(j,i)] for j in range(5))\n",
    "            == demand.iloc[t%12][i],\n",
    "            name = 'demand',\n",
    "        )\n",
    "    m.addConstr(\n",
    "        gurobipy.quicksum(exchange[(j,4)] for j in range(5))\n",
    "        - gurobipy.quicksum(exchange[(4,j)] for j in range(5))\n",
    "        == 0\n",
    "    )\n",
    "    m.addConstrs(\n",
    "        stored_now[i] + spill[i] + hydro[i] - stored_past[i] == inflow_now[i]\n",
    "        for i in range(4)\n",
    "    )\n",
    "    if t == 0:\n",
    "        m.addConstrs(stored_past[i] == stored_initial[i] for i in range(4))\n",
    "        m.addConstrs(inflow_now[i] == inflow_initial[i] for i in range(4))\n",
    "    else:\n",
    "        TS = m.addConstrs(inflow_now[i] + inflow_past[i] == 0 for i in range(4))\n",
    "        m.add_continuous_uncertainty(\n",
    "            uncertainty=sampler(t),\n",
    "            locations=(\n",
    "                [(TS[i],inflow_past[i]) for i in range(4)]\n",
    "                + [TS[i] for i in range(4)]\n",
    "            ),\n",
    "        )\n",
    "HydroThermal.discretize(n_samples=100, random_state=888)        "
   ]
  },
  {
   "cell_type": "markdown",
   "metadata": {},
   "source": [
    "Solve the problem\n",
    "---------------------\n",
    "We now call SDDP_infinity solver to run the periodical SDDP for 20 iterations. \n",
    "\n",
    "Backward passes of the periodical SDDP generates cuts for the first 13 stages. \n",
    "\n",
    "Forward passes of the periodical SDDP generates trial points. Trial points can be just obtained from solving these 13 stages. They can also be obtained from later stages (since the problem is periodical). It is often found solving more stages makes the algorithm converge faster. Here we set $\\textrm{forward_T}=120$, meaning that trial points are generated from the first 120 stages. "
   ]
  },
  {
   "cell_type": "code",
   "execution_count": 4,
   "metadata": {
    "scrolled": true
   },
   "outputs": [
    {
     "name": "stderr",
     "output_type": "stream",
     "text": [
      "----------------------------------------------------------------\n",
      "                   SDDP Solver, Lingquan Ding                   \n",
      "----------------------------------------------------------------\n",
      "   Iteration               Bound               Value        Time\n",
      "----------------------------------------------------------------\n",
      "           1       245082.919600   1734139943.615171    0.313327\n",
      "           2       275523.302505    396460564.856981    0.330124\n",
      "           3      3605638.659127    343399590.176297    0.490847\n",
      "           4      7472497.859932    591001246.734657    0.411590\n",
      "           5      7472497.859932    175229142.733435    0.324424\n",
      "           6      8608579.051570    455731628.093444    0.326809\n",
      "           7     18568417.723420    316499896.612321    0.325554\n",
      "           8     18568417.723420    252349984.539357    0.321800\n",
      "           9     18568417.723420   1034789138.922919    0.331332\n",
      "          10     29642949.252909    483878406.759418    0.316176\n",
      "----------------------------------------------------------------\n",
      "Time: 3.4919826984405518 seconds\n",
      "Algorithm stops since iteration:10 has reached\n"
     ]
    }
   ],
   "source": [
    "HT_sddp = SDDP_infinity(HydroThermal)\n",
    "HT_sddp.solve(max_iterations=10, forward_T=120)"
   ]
  },
  {
   "cell_type": "markdown",
   "metadata": {},
   "source": [
    "Evaluate the obtained policy\n",
    "---------------------------------\n",
    "The obtained policy is implementable feasible for any finite number of stages. We can for example, set $query_T=60$ as below to evaluate the policy for the first 60 stages."
   ]
  },
  {
   "cell_type": "code",
   "execution_count": 5,
   "metadata": {},
   "outputs": [
    {
     "data": {
      "text/plain": [
       "(154872080.5333635, 523227943.32932293)"
      ]
     },
     "execution_count": 5,
     "metadata": {},
     "output_type": "execute_result"
    }
   ],
   "source": [
    "result = Evaluation(HydroThermal)\n",
    "result.run(n_simulations=10, query_T=60)\n",
    "result.CI"
   ]
  }
 ],
 "metadata": {
  "kernelspec": {
   "display_name": "Python 3",
   "language": "python",
   "name": "python3"
  },
  "language_info": {
   "codemirror_mode": {
    "name": "ipython",
    "version": 3
   },
   "file_extension": ".py",
   "mimetype": "text/x-python",
   "name": "python",
   "nbconvert_exporter": "python",
   "pygments_lexer": "ipython3",
   "version": "3.7.4"
  }
 },
 "nbformat": 4,
 "nbformat_minor": 2
}
