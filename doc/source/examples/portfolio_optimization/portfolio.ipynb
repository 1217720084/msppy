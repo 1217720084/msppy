{
 "cells": [
  {
   "cell_type": "markdown",
   "metadata": {},
   "source": [
    "Porfolio Optimization\n",
    "================"
   ]
  },
  {
   "cell_type": "markdown",
   "metadata": {},
   "source": [
    "A portfolio manager oversees multiple assets $(i=1,\\dots,N)$ and a bank account $(i=N+1)$. For a specified number of stages $T$, the manager wants to maximize his utility by dynamically reblanacing the portfolio.\n",
    "Let $\\{r_{it}\\}$ be   the return process of   asset $i$. At the end of each period, the position of $i^{th}$ asset $x_{it}$ equals the start position $x_{i,t-1}$, plus the realized return $r_{it} x_{i,t-1}$ during the period, plus the newly long positions $b_{it}$, minus the newly short positions $s_{it}$. Transaction costs are $f_b,f_s$ for buying and selling respectively. The capital in the bank account will be adjusted accordingly.\n",
    "\n",
    "We consider a simple asset pricing model that decomposes the excess return as the return explained by Capital Asset Pricing Model (CAPM), alpha and idiosyncratic risk,\n",
    "\\begin{equation*}\n",
    "    r_{it}  =  r_{ft} + \\beta_i (r_{Mt}-r_{ft}) + \\epsilon_{it}, \\textrm{where}~ \\epsilon_{it}\\overset{i.i.d}{\\sim} N(\\alpha_i,\\sigma_i),\n",
    "\\end{equation*}\n",
    "where $\\alpha_i,\\beta_i,\\sigma_i$ are assumed to be constant. We refer to $\\{r_{ft} + \\beta_i (r_{Mt}-r_{ft})\\}$ as the market-exposure return process and $\\{\\epsilon_{it}\\}$ as the idiosyncratic return process. The market return process $\\{r_{Mt}\\}$ is modelled as a first-order autoregressive process (AR) with normal generalized autoregressive conditional heteroscedastic GARCH(1,1) innovation due to,\n",
    "\\begin{align*}\n",
    "    & r_{Mt} = \\mu + \\phi r_{M,t-1} + \\epsilon_{Mt},\\\\\n",
    "    & \\epsilon_{Mt} = \\sigma_{Mt} e_{Mt},\\\\\n",
    "    & \\sigma_{Mt}^2 = \\omega + \\alpha_1 \\epsilon_{M,t-1}^2 + \\alpha_2 \\sigma_{M,t-1}^2,\\\\\n",
    "    & e_{Mt}\\overset{i.i.d}{\\sim} N(0,1).\n",
    "\\end{align*}"
   ]
  },
  {
   "cell_type": "markdown",
   "metadata": {},
   "source": [
    "Formulation\n",
    "---------------\n",
    "\\begin{align*}\n",
    "    \\max~& U(r_T^\\top x_T)\\\\\n",
    "    \\textrm{s.t.}~&\\forall t=1,\\dots,T,\\forall i=1,\\dots,N,\\\\\n",
    "    & x_{it} = x_{i,capm,t} + x_{i,idio,t} + x_{i,t-1} + b_{it} - s_{it},\\\\\n",
    "    & x_{N+1,t} = (1 + r_{ft}) x_{N+1,t-1} - (1+f_{b}) \\sum_{i=1}^N b_{it} + (1-f_{s}) \\sum_{i=1}^N s_{it},\\\\\n",
    "    & x_{i,capm,t} = \\big[r_{ft} + \\beta_{i} (r_{Mt}-r_{ft})\\big] x_{i,t-1}\\\\\n",
    "    & x_{i,idio,t} = \\epsilon_{it} x_{i,t-1},\\\\\n",
    "    & \\epsilon_{it}\\overset{i.i.d}{\\sim} N(\\alpha_i,\\sigma_i), \\{r_{Mt}\\} \\sim \\textrm{AR}(1)-\\textrm{GARCH}(1,1),\\\\\n",
    "    & x_{i0} = 0, x_{N+1,0} = \\$ 100 \\\\\n",
    "    & b_{it},s_{it},x_{it},x_{N+1,t}\\geq 0.\n",
    "\\end{align*}"
   ]
  },
  {
   "cell_type": "markdown",
   "metadata": {},
   "source": [
    "Data\n",
    "------"
   ]
  },
  {
   "cell_type": "code",
   "execution_count": 1,
   "metadata": {},
   "outputs": [],
   "source": [
    "import pandas,numpy\n",
    "rf = 0.0005\n",
    "fee = 0.001\n",
    "params = pandas.read_csv(\"./data/parameters.csv\",index_col=0)\n",
    "coeffs = pandas.read_csv(\"./data/coefficients.csv\",index_col=0)\n",
    "mu,phi,omega,alpha_1,alpha_2 = params.iloc[:,0]\n",
    "alpha = numpy.array(coeffs['alpha'])\n",
    "beta = numpy.array(coeffs['beta'])\n",
    "sigma = numpy.array(coeffs['epsilon'])"
   ]
  },
  {
   "cell_type": "markdown",
   "metadata": {},
   "source": [
    "Solution\n",
    "-----------"
   ]
  },
  {
   "cell_type": "markdown",
   "metadata": {},
   "source": [
    "Consider three stage and five assets."
   ]
  },
  {
   "cell_type": "code",
   "execution_count": 2,
   "metadata": {},
   "outputs": [],
   "source": [
    "T = 3\n",
    "N = 5"
   ]
  },
  {
   "cell_type": "markdown",
   "metadata": {},
   "source": [
    "The indiosyncratic return process is straightforward to construct"
   ]
  },
  {
   "cell_type": "code",
   "execution_count": 3,
   "metadata": {},
   "outputs": [],
   "source": [
    "def f(alpha,sigma):\n",
    "    def inner(random_state):\n",
    "        return random_state.normal(alpha+1,sigma)\n",
    "    return inner"
   ]
  },
  {
   "cell_type": "markdown",
   "metadata": {},
   "source": [
    "The Markovian market-exposure return process $\\{r_{it}\\},i=1,\\dots,100$ are a bit more involved. One can certainly build directly a 103 dimensional return process and then discretize. But there is a more efficient way. Given the fact that the market-exposure return processes are virtually determined by the market return process, we can first discretize the market return process and then arithmetically compute the discretization of the market-exposure return process. Therefore, we need to manually deal with the discretization a bit. Normally we don't need to touch the discretize module, but this is a special case."
   ]
  },
  {
   "cell_type": "code",
   "execution_count": 4,
   "metadata": {},
   "outputs": [],
   "source": [
    "from msppy.discretize import Markovian"
   ]
  },
  {
   "cell_type": "code",
   "execution_count": 5,
   "metadata": {},
   "outputs": [],
   "source": [
    "# Markovian process generator\n",
    "def generator(random_state, size):\n",
    "    # (r_Mt, epsilon_Mt, sigma^2_Mt)\n",
    "    epsilon = random_state.normal(size=[T,size])\n",
    "    process = numpy.zeros(shape=[size,T,3])\n",
    "    process[:,0,0] = -0.006\n",
    "    process[:,0,2] = omega/(1-alpha_1-alpha_2)\n",
    "    for t in range(1,T):\n",
    "        process[:,t,2] = omega + alpha_1*process[:,t-1,1]**2 + alpha_2*process[:,t-1,2]\n",
    "        process[:,t,1] = numpy.sqrt(process[:,t,2]) * epsilon[t]\n",
    "        process[:,t,0] = mu + phi*process[:,t-1,0] + process[:,t,1]\n",
    "    return process"
   ]
  },
  {
   "cell_type": "code",
   "execution_count": 6,
   "metadata": {},
   "outputs": [],
   "source": [
    "# augmented Markovian process generator\n",
    "def generator_augmented(random_state, size):\n",
    "    # (r_it, r_Mt, epsilon_Mt, sigma^2_Mt)\n",
    "    process = generator(random_state, size)\n",
    "    market_return = process[:,:,0]\n",
    "    process_aug = numpy.concatenate(\n",
    "        (beta[:N]*(market_return[:,:,numpy.newaxis]-rf) + rf,process),\n",
    "        axis=-1,\n",
    "    )\n",
    "    return process_aug"
   ]
  },
  {
   "cell_type": "code",
   "execution_count": 7,
   "metadata": {},
   "outputs": [],
   "source": [
    "# Markov chain discretization\n",
    "sample_paths = generator(numpy.random.RandomState(0),size=1000)\n",
    "return_sample_paths = sample_paths[:,:,0]\n",
    "var_sample_paths = sample_paths[:,:,2]\n",
    "price_sample_paths = numpy.cumprod(numpy.exp(return_sample_paths),axis=1)\n",
    "markovian = Markovian(generator,n_Markov_states=[1]+[100]*(T-1),n_sample_paths=100000)\n",
    "markovian.SA()\n",
    "# augment to N+3 dimension\n",
    "Markov_states = [None for _ in range(T)]\n",
    "transition_matrix = markovian.transition_matrix\n",
    "for t in range(T):\n",
    "    market_return = markovian.Markov_states[t][:,0].reshape(-1,1)\n",
    "    asset_return_market_exposure = beta[:N]*(market_return-rf) + rf\n",
    "    Markov_states[t] = numpy.concatenate(\n",
    "        (asset_return_market_exposure,markovian.Markov_states[t]), axis=1)"
   ]
  },
  {
   "cell_type": "code",
   "execution_count": 8,
   "metadata": {},
   "outputs": [],
   "source": [
    "from msppy.msp import MSLP\n",
    "from msppy.solver import SDDP\n",
    "import gurobipy"
   ]
  },
  {
   "cell_type": "code",
   "execution_count": 9,
   "metadata": {},
   "outputs": [
    {
     "name": "stdout",
     "output_type": "stream",
     "text": [
      "Academic license - for non-commercial use only\n",
      "Academic license - for non-commercial use only\n",
      "Academic license - for non-commercial use only\n"
     ]
    },
    {
     "name": "stderr",
     "output_type": "stream",
     "text": [
      "----------------------------------------------------------------\n",
      "                   SDDP Solver, Lingquan Ding                   \n",
      "----------------------------------------------------------------\n",
      "   Iteration               Bound               Value        Time\n",
      "----------------------------------------------------------------\n",
      "           1          200.000000          100.100025    3.508484\n",
      "           2          200.000000          100.100025    3.325760\n",
      "           3          101.129474           98.520141    5.621885\n",
      "           4          100.592014          100.253018    3.802935\n",
      "           5          100.157229          100.345333    3.807003\n",
      "           6          100.100025          100.262957    3.660376\n",
      "           7          100.100025          100.100025    2.978375\n",
      "           8          100.100025          100.100025    3.919596\n",
      "           9          100.100025          100.100025    5.287912\n",
      "          10          100.100025          100.100025    4.829349\n",
      "          11          100.100025          100.100025    5.660479\n",
      "          12          100.100025          100.100025    2.900537\n",
      "          13          100.100025          100.100025    3.373619\n",
      "          14          100.100025          100.100025    2.655140\n",
      "          15          100.100025          100.100025    2.706490\n",
      "          16          100.100025          100.100025    2.592321\n",
      "          17          100.100025          100.100025    3.706674\n",
      "          18          100.100025          100.100025    3.026676\n",
      "          19          100.100025          100.100025    2.882094\n",
      "          20          100.100025          100.100025    2.602981\n",
      "          21          100.100025          100.100025    2.531853\n",
      "          22          100.100025          100.100025    3.877839\n",
      "          23          100.100025          100.100025    3.812022\n",
      "          24          100.100025          100.100025    4.152634\n",
      "          25          100.100025          100.100025    4.106112\n",
      "          26          100.100025          100.100025    1.874780\n",
      "          27          100.100025          100.100025    2.012139\n",
      "          28          100.100025          100.100025    1.937941\n",
      "          29          100.100025          100.100025    2.336755\n",
      "          30          100.100025          100.100025    2.453018\n",
      "----------------------------------------------------------------\n",
      "Time: 101.9437792301178 seconds\n",
      "Algorithm stops since iteration:30 has reached\n"
     ]
    }
   ],
   "source": [
    "AssetMgt = MSLP(T=T, sense=-1, bound=200)\n",
    "AssetMgt.add_Markovian_uncertainty(generator_augmented)\n",
    "for t in range(T):\n",
    "    m = AssetMgt[t]\n",
    "    now, past = m.addStateVars(N+1, lb=0, obj=0, name='asset')\n",
    "    if t == 0:\n",
    "        buy = m.addVars(N, name='buy')\n",
    "        sell = m.addVars(N, name='sell')\n",
    "        m.addConstrs(now[j] == buy[j] - sell[j] for j in range(N))\n",
    "        m.addConstr(\n",
    "            now[N] == 100\n",
    "            - (1+fee) * gurobipy.quicksum(buy[j] for j in range(N))\n",
    "            + (1-fee) * gurobipy.quicksum(sell[j] for j in range(N))\n",
    "        )\n",
    "    elif t != T-1:\n",
    "        sell = m.addVars(N, name='sell')\n",
    "        buy = m.addVars(N, name='buy')\n",
    "        capm = m.addVars(N, lb = -gurobipy.GRB.INFINITY, name='capm')\n",
    "        idio = m.addVars(N, name='idio')\n",
    "        m.addConstr(\n",
    "            now[N] == (\n",
    "                (1+rf) * past[N]\n",
    "                - (1+fee) * gurobipy.quicksum(buy[j] for j in range(N))\n",
    "                + (1-fee) * gurobipy.quicksum(sell[j] for j in range(N))\n",
    "            )\n",
    "        )\n",
    "        m.addConstrs(\n",
    "            now[j] == capm[j] + idio[j] + buy[j] - sell[j]\n",
    "            for j in range(N)\n",
    "        )\n",
    "        for j in range(N):\n",
    "            m.addConstr(past[j] == capm[j], uncertainty_dependent={past[j]:j})\n",
    "            m.addConstr(past[j] == idio[j], uncertainty={past[j]:f(alpha[j],sigma[j])})\n",
    "    else:\n",
    "        v = m.addVar(obj=1, lb=-gurobipy.GRB.INFINITY, name='wealth')\n",
    "        capm = m.addVars(N, lb = -gurobipy.GRB.INFINITY, name='capm')\n",
    "        idio = m.addVars(N, name='idio')\n",
    "        m.addConstr(v == gurobipy.quicksum(now[j] for j in range(N+1)))\n",
    "        m.addConstrs(\n",
    "            now[j] == capm[j] + idio[j]\n",
    "            for j in range(N)\n",
    "        )\n",
    "        for j in range(N):\n",
    "            m.addConstr(past[j] == capm[j], uncertainty_dependent={past[j]:j})\n",
    "            m.addConstr(past[j] == idio[j], uncertainty={past[j]:f(alpha[j],sigma[j])})\n",
    "        m.addConstr(now[N] == (1+rf) * past[N])\n",
    "AssetMgt.discretize(\n",
    "    n_samples=100,\n",
    "    method='input',\n",
    "    Markov_states=Markov_states,\n",
    "    transition_matrix=transition_matrix,\n",
    "    random_state=888,\n",
    ")\n",
    "AssetMgt.set_AVaR(lambda_=0.5, alpha_=0.25)\n",
    "AssetMgt_SDDP = SDDP(AssetMgt)\n",
    "AssetMgt_SDDP.solve(max_iterations=30)"
   ]
  },
  {
   "cell_type": "code",
   "execution_count": null,
   "metadata": {},
   "outputs": [],
   "source": []
  }
 ],
 "metadata": {
  "kernelspec": {
   "display_name": "Python 3",
   "language": "python",
   "name": "python3"
  },
  "language_info": {
   "codemirror_mode": {
    "name": "ipython",
    "version": 3
   },
   "file_extension": ".py",
   "mimetype": "text/x-python",
   "name": "python",
   "nbconvert_exporter": "python",
   "pygments_lexer": "ipython3",
   "version": "3.7.1"
  }
 },
 "nbformat": 4,
 "nbformat_minor": 2
}
