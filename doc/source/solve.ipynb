{
 "cells": [
  {
   "cell_type": "markdown",
   "metadata": {},
   "source": [
    "Solve the true problem\n",
    "================="
   ]
  },
  {
   "cell_type": "markdown",
   "metadata": {},
   "source": [
    "Now that we have constructed the true problem and discretize it. The\n",
    "MSPPy package provides two solvers to solve the problem."
   ]
  },
  {
   "cell_type": "code",
   "execution_count": 1,
   "metadata": {},
   "outputs": [],
   "source": [
    "%matplotlib inline\n",
    "import seaborn\n",
    "seaborn.set_style('darkgrid')\n",
    "from msppy.utils.examples import (construct_nvid, \n",
    "    construct_nvic, construct_nvmc, construct_nvm)\n",
    "from msppy.solver import Extensive, SDDP\n",
    "from msppy.evaluation import Evaluation, EvaluationTrue"
   ]
  },
  {
   "cell_type": "markdown",
   "metadata": {},
   "source": [
    "Stage-wise independent discrete finite problem\n",
    "--------------------------------------------------------------"
   ]
  },
  {
   "cell_type": "markdown",
   "metadata": {},
   "source": [
    "Both the extensive solver and SDDP solver shows that, the optimum is $\\$3.18$ and an optimal amount of newspaper to buy today is 7 for the $\\textit{true problem}$"
   ]
  },
  {
   "cell_type": "code",
   "execution_count": 2,
   "metadata": {},
   "outputs": [
    {
     "name": "stdout",
     "output_type": "stream",
     "text": [
      "Academic license - for non-commercial use only\n",
      "Academic license - for non-commercial use only\n",
      "Academic license - for non-commercial use only\n",
      "Optimize a model with 22 rows, 46 columns and 55 nonzeros\n",
      "Coefficient statistics:\n",
      "  Matrix range     [1e+00, 1e+00]\n",
      "  Objective range  [5e-02, 1e+00]\n",
      "  Bounds range     [0e+00, 0e+00]\n",
      "  RHS range        [1e+00, 1e+01]\n",
      "Presolve removed 13 rows and 26 columns\n",
      "Presolve time: 0.04s\n",
      "Presolved: 9 rows, 20 columns, 36 nonzeros\n",
      "\n",
      "Iteration    Objective       Primal Inf.    Dual Inf.      Time\n",
      "       0    7.2727273e+29   9.000000e+30   2.909091e+00      0s\n",
      "      13    3.1818182e+00   0.000000e+00   0.000000e+00      0s\n",
      "\n",
      "Solved in 13 iterations and 0.06 seconds\n",
      "Optimal objective  3.181818182e+00\n"
     ]
    },
    {
     "data": {
      "text/plain": [
       "{'bought': 7.0}"
      ]
     },
     "execution_count": 2,
     "metadata": {},
     "output_type": "execute_result"
    }
   ],
   "source": [
    "nvid = construct_nvid()\n",
    "nvid_ext = Extensive(nvid)\n",
    "nvid_ext.solve()\n",
    "nvid_ext.first_stage_solution"
   ]
  },
  {
   "cell_type": "code",
   "execution_count": 3,
   "metadata": {
    "scrolled": true
   },
   "outputs": [
    {
     "name": "stderr",
     "output_type": "stream",
     "text": [
      "----------------------------------------------------------------\n",
      "                   SDDP Solver, Lingquan Ding                   \n",
      "----------------------------------------------------------------\n",
      "   Iteration               Bound               Value        Time\n",
      "----------------------------------------------------------------\n",
      "           1           10.000000            0.000000    0.011892\n",
      "           2            5.000000            2.500000    0.009692\n",
      "           3            3.500000            5.000000    0.007860\n",
      "           4            3.318182            8.000000    0.002055\n",
      "           5            3.227273            7.000000    0.002200\n",
      "           6            3.181818            1.250000    0.004256\n",
      "           7            3.181818            7.000000    0.009488\n",
      "           8            3.181818            2.500000    0.005164\n",
      "           9            3.181818            1.000000    0.002585\n",
      "          10            3.181818            4.000000    0.003089\n",
      "----------------------------------------------------------------\n",
      "Time: 0.05828094482421875 seconds\n",
      "Algorithm stops since iteration:10 has reached\n"
     ]
    },
    {
     "name": "stdout",
     "output_type": "stream",
     "text": [
      "{'bought': 7.000000000000024}\n"
     ]
    },
    {
     "data": {
      "image/png": "[encoded data removed]",
      "text/plain": [
       "<Figure size 432x288 with 1 Axes>"
      ]
     },
     "metadata": {
      "needs_background": "light"
     },
     "output_type": "display_data"
    }
   ],
   "source": [
    "nvid_sddp = SDDP(nvid)\n",
    "nvid_sddp.solve(max_iterations=10)\n",
    "print(nvid_sddp.first_stage_solution)\n",
    "res = EvaluationTrue(nvid)\n",
    "res.run(n_simulations=-1)\n",
    "print(res.gap)"
   ]
  },
  {
   "cell_type": "markdown",
   "metadata": {},
   "source": [
    "Stage-wise independent continuous problem\n",
    "-----------------------------------------------------------"
   ]
  },
  {
   "cell_type": "markdown",
   "metadata": {},
   "source": [
    "In this case, for both solvers, the problem needs to be discretized. The following snippet discretizes the data process by 100 number of samples and a random seed 888. We refer the resulting disretization problem as $\\textit{SAA(1)}$. Both solvers show that, for $\\textit{SAA(1)}$, the optimum is $\\$2.79$ and an optimal amount of newspaper to buy today is 9.08"
   ]
  },
  {
   "cell_type": "code",
   "execution_count": 5,
   "metadata": {},
   "outputs": [
    {
     "name": "stdout",
     "output_type": "stream",
     "text": [
      "Academic license - for non-commercial use only\n",
      "Academic license - for non-commercial use only\n",
      "Optimize a model with 200 rows, 402 columns and 500 nonzeros\n",
      "Coefficient statistics:\n",
      "  Matrix range     [1e+00, 1e+00]\n",
      "  Objective range  [5e-03, 1e+00]\n",
      "  Bounds range     [0e+00, 0e+00]\n",
      "  RHS range        [4e-02, 3e+02]\n",
      "Presolve removed 100 rows and 201 columns\n",
      "Presolve time: 0.01s\n",
      "Presolved: 100 rows, 201 columns, 300 nonzeros\n",
      "\n",
      "Iteration    Objective       Primal Inf.    Dual Inf.      Time\n",
      "       0    1.6150000e+30   1.000000e+32   1.292000e+01      0s\n",
      "     159    2.7927114e+00   0.000000e+00   0.000000e+00      0s\n",
      "\n",
      "Solved in 159 iterations and 0.02 seconds\n",
      "Optimal objective  2.792711442e+00\n"
     ]
    },
    {
     "data": {
      "text/plain": [
       "{'bought': 9.082937518406201}"
      ]
     },
     "execution_count": 5,
     "metadata": {},
     "output_type": "execute_result"
    }
   ],
   "source": [
    "nvic = construct_nvic()\n",
    "nvic.discretize(random_state=1, n_samples=100)\n",
    "nvic_ext = Extensive(nvic)\n",
    "nvic_ext.solve()\n",
    "nvic_ext.first_stage_solution"
   ]
  },
  {
   "cell_type": "code",
   "execution_count": 6,
   "metadata": {
    "scrolled": true
   },
   "outputs": [
    {
     "name": "stderr",
     "output_type": "stream",
     "text": [
      "----------------------------------------------------------------\n",
      "                   SDDP Solver, Lingquan Ding                   \n",
      "----------------------------------------------------------------\n",
      "   Iteration               Bound               Value        Time\n",
      "----------------------------------------------------------------\n",
      "           1           50.000000            0.000000    0.015636\n",
      "           2            8.349073          -15.411247    0.012933\n",
      "           3            3.126525           -0.086403    0.044057\n",
      "           4            2.916262           22.092621    0.013228\n",
      "           5            2.843520            1.948731    0.012971\n",
      "           6            2.808904           10.772448    0.011250\n",
      "           7            2.798583            9.387801    0.010525\n",
      "           8            2.793949            8.974973    0.010659\n",
      "           9            2.792711            9.206693    0.009225\n",
      "          10            2.792711           -1.708884    0.017468\n",
      "----------------------------------------------------------------\n",
      "Time: 0.15795183181762695 seconds\n",
      "Algorithm stops since iteration:10 has reached\n"
     ]
    },
    {
     "name": "stdout",
     "output_type": "stream",
     "text": [
      "{'bought': 9.082937518406089}\n"
     ]
    },
    {
     "data": {
      "image/png": "[encoded data removed]",
      "text/plain": [
       "<Figure size 432x288 with 1 Axes>"
      ]
     },
     "metadata": {
      "needs_background": "light"
     },
     "output_type": "display_data"
    }
   ],
   "source": [
    "nvic_sddp = SDDP(nvic)\n",
    "nvic_sddp.solve(max_iterations=10)\n",
    "print(nvic_sddp.first_stage_solution)\n",
    "res = Evaluation(nvic)\n",
    "res.run(n_simulations=-1)\n",
    "print(res.gap)"
   ]
  },
  {
   "cell_type": "markdown",
   "metadata": {},
   "source": [
    "But our intention is solve the true problem rather than the SAA(1). The advantage of SDDP solver is that by solving SAA(1), it also offers a policy to the $\\textit{true problem}$ (though not optimal). By simulation as follows, the 95% confidence interval of the value of the obtained policy on the $\\textit{true problem}$ is [3.10,3.37]. Therefore, we conclude that by solving SAA(1), the SDDP solver provides you with a policy whose value is within [3.10,3.37] with 95% confidence for the $\\textit{true problem}$."
   ]
  },
  {
   "cell_type": "code",
   "execution_count": 8,
   "metadata": {},
   "outputs": [
    {
     "data": {
      "text/plain": [
       "(3.102969934241783, 3.372030065758215)"
      ]
     },
     "execution_count": 8,
     "metadata": {},
     "output_type": "execute_result"
    }
   ],
   "source": [
    "res_true = EvaluationTrue(nvid)\n",
    "res_true.run(n_simulations=3000, percentile=95)\n",
    "res_true.CI"
   ]
  },
  {
   "cell_type": "markdown",
   "metadata": {},
   "source": [
    "Markov chain problem\n",
    "-----------------------------"
   ]
  },
  {
   "cell_type": "markdown",
   "metadata": {},
   "source": [
    "Both the extensive solver and SDDP solver shows that, the optimum is $\\$9.05$ and an optimal amount of newspaper to buy today is 6 for the $\\textit{true problem}$"
   ]
  },
  {
   "cell_type": "code",
   "execution_count": 9,
   "metadata": {},
   "outputs": [
    {
     "name": "stdout",
     "output_type": "stream",
     "text": [
      "Academic license - for non-commercial use only\n",
      "Academic license - for non-commercial use only\n",
      "Academic license - for non-commercial use only\n",
      "Optimize a model with 12 rows, 26 columns and 30 nonzeros\n",
      "Coefficient statistics:\n",
      "  Matrix range     [1e+00, 1e+00]\n",
      "  Objective range  [7e-02, 1e+00]\n",
      "  Bounds range     [0e+00, 0e+00]\n",
      "  RHS range        [4e+00, 6e+00]\n",
      "Presolve removed 11 rows and 23 columns\n",
      "Presolve time: 0.02s\n",
      "Presolved: 1 rows, 3 columns, 3 nonzeros\n",
      "\n",
      "Iteration    Objective       Primal Inf.    Dual Inf.      Time\n",
      "       0    1.5000000e+29   1.000000e+30   1.500000e-01      0s\n",
      "       2    9.0500000e+00   0.000000e+00   0.000000e+00      0s\n",
      "\n",
      "Solved in 2 iterations and 0.03 seconds\n",
      "Optimal objective  9.050000000e+00\n"
     ]
    },
    {
     "data": {
      "text/plain": [
       "{'bought': 6.0}"
      ]
     },
     "execution_count": 9,
     "metadata": {},
     "output_type": "execute_result"
    }
   ],
   "source": [
    "nvmc = construct_nvmc()\n",
    "nvmc_ext = Extensive(nvmc)\n",
    "nvmc_ext.solve()\n",
    "nvmc_ext.first_stage_solution"
   ]
  },
  {
   "cell_type": "code",
   "execution_count": 10,
   "metadata": {
    "scrolled": true
   },
   "outputs": [
    {
     "name": "stderr",
     "output_type": "stream",
     "text": [
      "----------------------------------------------------------------\n",
      "                   SDDP Solver, Lingquan Ding                   \n",
      "----------------------------------------------------------------\n",
      "   Iteration               Bound               Value        Time\n",
      "----------------------------------------------------------------\n",
      "           1           75.000000            0.000000    0.005299\n",
      "           2           12.500000          -22.500000    0.003193\n",
      "           3            9.850000            3.300000    0.006762\n",
      "           4            9.200000            9.300000    0.005378\n",
      "           5            9.050000            9.700000    0.005474\n",
      "           6            9.050000            9.000000    0.003131\n",
      "           7            9.050000           10.000000    0.007389\n",
      "           8            9.050000            9.000000    0.003147\n",
      "           9            9.050000           10.000000    0.004776\n",
      "          10            9.050000            9.000000    0.002887\n",
      "----------------------------------------------------------------\n",
      "Time: 0.04743623733520508 seconds\n",
      "Algorithm stops since iteration:10 has reached\n"
     ]
    },
    {
     "name": "stdout",
     "output_type": "stream",
     "text": [
      "{'bought': 5.999999999999999}\n"
     ]
    },
    {
     "data": {
      "image/png": "[encoded data removed]",
      "text/plain": [
       "<Figure size 432x288 with 1 Axes>"
      ]
     },
     "metadata": {
      "needs_background": "light"
     },
     "output_type": "display_data"
    }
   ],
   "source": [
    "nvmc_sddp = SDDP(nvmc)\n",
    "nvmc_sddp.solve(max_iterations=10)\n",
    "print(nvmc_sddp.first_stage_solution)\n",
    "nvmc_sddp.plot_bounds();"
   ]
  },
  {
   "cell_type": "code",
   "execution_count": 11,
   "metadata": {},
   "outputs": [
    {
     "data": {
      "text/plain": [
       "0.0"
      ]
     },
     "execution_count": 11,
     "metadata": {},
     "output_type": "execute_result"
    }
   ],
   "source": [
    "res = Evaluation(nvmc)\n",
    "res.run(n_simulations=-1)\n",
    "res.gap"
   ]
  },
  {
   "cell_type": "markdown",
   "metadata": {},
   "source": [
    "Markovian continuous problem\n",
    "----------------------------------------"
   ]
  },
  {
   "cell_type": "markdown",
   "metadata": {},
   "source": [
    "In this case, for both solvers, the problem needs to be discretized. The following snippet ten dimensional Markov chain using stochastic approximation method (stochastic gradient descent) with 1000 iterations. We refer the resulting disretization problem as $\\textit{MC}$. Both solvers show that, for $\\textit{MC}$, the optimum is $\\$2.67$ and an optimal amount of newspaper to buy today is 17.76"
   ]
  },
  {
   "cell_type": "code",
   "execution_count": 12,
   "metadata": {},
   "outputs": [
    {
     "name": "stdout",
     "output_type": "stream",
     "text": [
      "Academic license - for non-commercial use only\n",
      "Academic license - for non-commercial use only\n",
      "Academic license - for non-commercial use only\n"
     ]
    },
    {
     "data": {
      "text/plain": [
       "{'bought': 17.766702738079392}"
      ]
     },
     "execution_count": 12,
     "metadata": {},
     "output_type": "execute_result"
    }
   ],
   "source": [
    "nvm = construct_nvm()\n",
    "nvm.discretize(n_Markov_states=10, n_sample_paths=1000, method='SA');\n",
    "nvm_ext = Extensive(nvm)\n",
    "nvm_ext.solve(outputFlag=0)\n",
    "nvm_ext.first_stage_solution"
   ]
  },
  {
   "cell_type": "code",
   "execution_count": 13,
   "metadata": {},
   "outputs": [
    {
     "name": "stdout",
     "output_type": "stream",
     "text": [
      "{'bought': 17.76670273807937}\n"
     ]
    },
    {
     "data": {
      "image/png": "[encoded data removed]",
      "text/plain": [
       "<Figure size 432x288 with 1 Axes>"
      ]
     },
     "metadata": {
      "needs_background": "light"
     },
     "output_type": "display_data"
    }
   ],
   "source": [
    "nvm_sddp = SDDP(nvm)\n",
    "nvm_sddp.solve(max_iterations=100, logToConsole=0)\n",
    "print(nvm_sddp.first_stage_solution)\n",
    "nvm_sddp.plot_bounds();"
   ]
  },
  {
   "cell_type": "code",
   "execution_count": 14,
   "metadata": {},
   "outputs": [
    {
     "data": {
      "text/plain": [
       "1.3270230966127594e-16"
      ]
     },
     "execution_count": 14,
     "metadata": {},
     "output_type": "execute_result"
    }
   ],
   "source": [
    "res = Evaluation(nvm)\n",
    "res.run(n_simulations=-1)\n",
    "res.gap"
   ]
  },
  {
   "cell_type": "markdown",
   "metadata": {},
   "source": [
    "But our intention is solve the true problem rather than the $\\textit{MC}$. The advantage of SDDP solver is that by solving $\\textit{MC}$, it also offers a policy to the $\\textit{true problem}$ (though not guaranteed to be optimal). By simulation as follows, the 95% confidence interval of the value of the obtained policy on the $\\textit{true problem}$ is [26.54,27.99]. Therefore, we conclude that by solving $\\textit{MC}$, the SDDP solver provides you with a policy whose value is within [26.54,27.99] with 95% confidence for the $\\textit{true problem}$."
   ]
  },
  {
   "cell_type": "code",
   "execution_count": 15,
   "metadata": {},
   "outputs": [
    {
     "data": {
      "text/plain": [
       "(26.53884160940781, 27.99346597230838)"
      ]
     },
     "execution_count": 15,
     "metadata": {},
     "output_type": "execute_result"
    }
   ],
   "source": [
    "res_true = EvaluationTrue(nvm)\n",
    "res_true.run(n_simulations=3000)\n",
    "res_true.CI"
   ]
  }
 ],
 "metadata": {
  "kernelspec": {
   "display_name": "Python 3",
   "language": "python",
   "name": "python3"
  },
  "language_info": {
   "codemirror_mode": {
    "name": "ipython",
    "version": 3
   },
   "file_extension": ".py",
   "mimetype": "text/x-python",
   "name": "python",
   "nbconvert_exporter": "python",
   "pygments_lexer": "ipython3",
   "version": "3.7.1"
  }
 },
 "nbformat": 4,
 "nbformat_minor": 2
}
